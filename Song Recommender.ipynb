{
 "cells": [
  {
   "cell_type": "code",
   "execution_count": 76,
   "metadata": {},
   "outputs": [],
   "source": [
    "import pandas as pd\n",
    "import numpy as np\n",
    "import matplotlib.pyplot as plt\n",
    "import nltk\n",
    "from collections import Counter\n",
    "from sklearn.model_selection import train_test_split"
   ]
  },
  {
   "cell_type": "markdown",
   "metadata": {},
   "source": [
    "# Load music data"
   ]
  },
  {
   "cell_type": "code",
   "execution_count": 5,
   "metadata": {},
   "outputs": [],
   "source": [
    "song_data = pd.read_csv(\"song_data.csv\")\n"
   ]
  },
  {
   "cell_type": "markdown",
   "metadata": {},
   "source": [
    "# Explore data"
   ]
  },
  {
   "cell_type": "code",
   "execution_count": 55,
   "metadata": {},
   "outputs": [
    {
     "name": "stdout",
     "output_type": "stream",
     "text": [
      "user_id         1116609\n",
      "song_id         1116609\n",
      "listen_count    1116609\n",
      "title           1116609\n",
      "artist          1116609\n",
      "song            1116609\n",
      "dtype: int64\n"
     ]
    },
    {
     "data": {
      "text/html": [
       "<div>\n",
       "<style>\n",
       "    .dataframe thead tr:only-child th {\n",
       "        text-align: right;\n",
       "    }\n",
       "\n",
       "    .dataframe thead th {\n",
       "        text-align: left;\n",
       "    }\n",
       "\n",
       "    .dataframe tbody tr th {\n",
       "        vertical-align: top;\n",
       "    }\n",
       "</style>\n",
       "<table border=\"1\" class=\"dataframe\">\n",
       "  <thead>\n",
       "    <tr style=\"text-align: right;\">\n",
       "      <th></th>\n",
       "      <th>user_id</th>\n",
       "      <th>song_id</th>\n",
       "      <th>listen_count</th>\n",
       "      <th>title</th>\n",
       "      <th>artist</th>\n",
       "      <th>song</th>\n",
       "    </tr>\n",
       "  </thead>\n",
       "  <tbody>\n",
       "    <tr>\n",
       "      <th>0</th>\n",
       "      <td>b80344d063b5ccb3212f76538f3d9e43d87dca9e</td>\n",
       "      <td>SOAKIMP12A8C130995</td>\n",
       "      <td>1</td>\n",
       "      <td>The Cove</td>\n",
       "      <td>Jack Johnson</td>\n",
       "      <td>The Cove - Jack Johnson</td>\n",
       "    </tr>\n",
       "    <tr>\n",
       "      <th>1</th>\n",
       "      <td>b80344d063b5ccb3212f76538f3d9e43d87dca9e</td>\n",
       "      <td>SOBBMDR12A8C13253B</td>\n",
       "      <td>2</td>\n",
       "      <td>Entre Dos Aguas</td>\n",
       "      <td>Paco De Lucia</td>\n",
       "      <td>Entre Dos Aguas - Paco De Lucia</td>\n",
       "    </tr>\n",
       "    <tr>\n",
       "      <th>2</th>\n",
       "      <td>b80344d063b5ccb3212f76538f3d9e43d87dca9e</td>\n",
       "      <td>SOBXHDL12A81C204C0</td>\n",
       "      <td>1</td>\n",
       "      <td>Stronger</td>\n",
       "      <td>Kanye West</td>\n",
       "      <td>Stronger - Kanye West</td>\n",
       "    </tr>\n",
       "    <tr>\n",
       "      <th>3</th>\n",
       "      <td>b80344d063b5ccb3212f76538f3d9e43d87dca9e</td>\n",
       "      <td>SOBYHAJ12A6701BF1D</td>\n",
       "      <td>1</td>\n",
       "      <td>Constellations</td>\n",
       "      <td>Jack Johnson</td>\n",
       "      <td>Constellations - Jack Johnson</td>\n",
       "    </tr>\n",
       "    <tr>\n",
       "      <th>4</th>\n",
       "      <td>b80344d063b5ccb3212f76538f3d9e43d87dca9e</td>\n",
       "      <td>SODACBL12A8C13C273</td>\n",
       "      <td>1</td>\n",
       "      <td>Learn To Fly</td>\n",
       "      <td>Foo Fighters</td>\n",
       "      <td>Learn To Fly - Foo Fighters</td>\n",
       "    </tr>\n",
       "  </tbody>\n",
       "</table>\n",
       "</div>"
      ],
      "text/plain": [
       "                                    user_id             song_id  listen_count  \\\n",
       "0  b80344d063b5ccb3212f76538f3d9e43d87dca9e  SOAKIMP12A8C130995             1   \n",
       "1  b80344d063b5ccb3212f76538f3d9e43d87dca9e  SOBBMDR12A8C13253B             2   \n",
       "2  b80344d063b5ccb3212f76538f3d9e43d87dca9e  SOBXHDL12A81C204C0             1   \n",
       "3  b80344d063b5ccb3212f76538f3d9e43d87dca9e  SOBYHAJ12A6701BF1D             1   \n",
       "4  b80344d063b5ccb3212f76538f3d9e43d87dca9e  SODACBL12A8C13C273             1   \n",
       "\n",
       "             title         artist                             song  \n",
       "0         The Cove   Jack Johnson          The Cove - Jack Johnson  \n",
       "1  Entre Dos Aguas  Paco De Lucia  Entre Dos Aguas - Paco De Lucia  \n",
       "2         Stronger     Kanye West            Stronger - Kanye West  \n",
       "3   Constellations   Jack Johnson    Constellations - Jack Johnson  \n",
       "4     Learn To Fly   Foo Fighters      Learn To Fly - Foo Fighters  "
      ]
     },
     "execution_count": 55,
     "metadata": {},
     "output_type": "execute_result"
    }
   ],
   "source": [
    "print(song_data.count())\n",
    "song_data.head(5)\n"
   ]
  },
  {
   "cell_type": "code",
   "execution_count": 70,
   "metadata": {},
   "outputs": [
    {
     "data": {
      "text/html": [
       "<div>\n",
       "<style>\n",
       "    .dataframe thead tr:only-child th {\n",
       "        text-align: right;\n",
       "    }\n",
       "\n",
       "    .dataframe thead th {\n",
       "        text-align: left;\n",
       "    }\n",
       "\n",
       "    .dataframe tbody tr th {\n",
       "        vertical-align: top;\n",
       "    }\n",
       "</style>\n",
       "<table border=\"1\" class=\"dataframe\">\n",
       "  <thead>\n",
       "    <tr style=\"text-align: right;\">\n",
       "      <th></th>\n",
       "      <th>song</th>\n",
       "      <th>listen_count</th>\n",
       "    </tr>\n",
       "  </thead>\n",
       "  <tbody>\n",
       "    <tr>\n",
       "      <th>7122</th>\n",
       "      <td>Sehr kosmisch - Harmonia</td>\n",
       "      <td>5970</td>\n",
       "    </tr>\n",
       "    <tr>\n",
       "      <th>9077</th>\n",
       "      <td>Undo - Björk</td>\n",
       "      <td>5281</td>\n",
       "    </tr>\n",
       "    <tr>\n",
       "      <th>9873</th>\n",
       "      <td>You\\'re The One - Dwight Yoakam</td>\n",
       "      <td>4806</td>\n",
       "    </tr>\n",
       "    <tr>\n",
       "      <th>2062</th>\n",
       "      <td>Dog Days Are Over (Radio Edit) - Florence + Th...</td>\n",
       "      <td>4536</td>\n",
       "    </tr>\n",
       "    <tr>\n",
       "      <th>6769</th>\n",
       "      <td>Revelry - Kings Of Leon</td>\n",
       "      <td>4339</td>\n",
       "    </tr>\n",
       "  </tbody>\n",
       "</table>\n",
       "</div>"
      ],
      "text/plain": [
       "                                                   song  listen_count\n",
       "7122                           Sehr kosmisch - Harmonia          5970\n",
       "9077                                       Undo - Björk          5281\n",
       "9873                    You\\'re The One - Dwight Yoakam          4806\n",
       "2062  Dog Days Are Over (Radio Edit) - Florence + Th...          4536\n",
       "6769                            Revelry - Kings Of Leon          4339"
      ]
     },
     "execution_count": 70,
     "metadata": {},
     "output_type": "execute_result"
    }
   ],
   "source": [
    "song_data_grouped = song_data.groupby(['song']).agg({'listen_count': 'count'}).reset_index()\n",
    "song_data_grouped.sort_values('listen_count',ascending = 0).head(5)"
   ]
  },
  {
   "cell_type": "code",
   "execution_count": 72,
   "metadata": {},
   "outputs": [
    {
     "data": {
      "text/plain": [
       "<matplotlib.axes._subplots.AxesSubplot at 0x11370a780>"
      ]
     },
     "execution_count": 72,
     "metadata": {},
     "output_type": "execute_result"
    },
    {
     "data": {
      "image/png": "[encoded data removed]",
      "text/plain": [
       "<matplotlib.figure.Figure at 0x10aa24e48>"
      ]
     },
     "metadata": {},
     "output_type": "display_data"
    },
    {
     "data": {
      "image/png": "[encoded data removed]",
      "text/plain": [
       "<matplotlib.figure.Figure at 0x11325e2b0>"
      ]
     },
     "metadata": {},
     "output_type": "display_data"
    }
   ],
   "source": [
    "%matplotlib inline\n",
    "\n",
    "song_data_grouped.hist(column='listen_count', bins=3)\n",
    "song_data_grouped.plot.hist(alpha=0.5)"
   ]
  },
  {
   "cell_type": "markdown",
   "metadata": {},
   "source": [
    "## Count number of users"
   ]
  },
  {
   "cell_type": "code",
   "execution_count": 81,
   "metadata": {},
   "outputs": [
    {
     "data": {
      "text/plain": [
       "66346"
      ]
     },
     "execution_count": 81,
     "metadata": {},
     "output_type": "execute_result"
    }
   ],
   "source": [
    "users = song_data['user_id'].unique()\n",
    "len(users)"
   ]
  },
  {
   "cell_type": "markdown",
   "metadata": {},
   "source": [
    "# Create a song recommender"
   ]
  },
  {
   "cell_type": "code",
   "execution_count": 74,
   "metadata": {},
   "outputs": [],
   "source": [
    "train_data, test_data = train_test_split(song_data, test_size = 0.20, random_state=0)"
   ]
  },
  {
   "cell_type": "markdown",
   "metadata": {},
   "source": [
    "### Simple popularity-based recommender"
   ]
  },
  {
   "cell_type": "code",
   "execution_count": 75,
   "metadata": {},
   "outputs": [],
   "source": [
    "class Popularity_Recommender():\n",
    "\n",
    "\t# Initialize all the variables\n",
    "\tdef __init__(self):\n",
    "\t\t# Tha training data which is been provided.\n",
    "\t\tself.train_data = None\n",
    "\n",
    "\t\t# The id of the user for which the recommendations is needed.\n",
    "\t\tself.user_id = None\n",
    "\n",
    "\t\t# The id of item e.g. Songs, Movies, Products etc.\n",
    "\t\tself.item_id = None\n",
    "\n",
    "\t\t# The final result which is going to be returned as a dataframe. \n",
    "\t\tself.popularity_recommendataions = None\n",
    "\n",
    "\t# Create the recommendations.\n",
    "\tdef create(self,train_data,user_id,item_id):\n",
    "\n",
    "\t\t# The training data\n",
    "\t\tself.train_data = train_data\n",
    "\n",
    "\t\t# The id of the user for which the recommendations is needed.\n",
    "\t\tself.user_id = user_id\n",
    "\n",
    "\t\t# The id of item e.g. Songs, Movies, Products etc.\n",
    "\t\tself.item_id = item_id\n",
    "\n",
    "\n",
    "\t\t# The items are grouped by item_id aggregated with the count of the users and the index is reseted.\n",
    "\t\ttrain_data_grouped = train_data.groupby([self.item_id]).agg({self.user_id: 'count'}).reset_index()\n",
    "\t\t# The column named user_id is replaced by the name score.\n",
    "\t\ttrain_data_grouped.rename(columns = {'user_id': 'score'}, inplace = True)\n",
    "\n",
    "\n",
    "\t\t# The training data is sorted according to the score in descending order and by item_id in ascending order.\n",
    "\t\ttrain_data_sort = train_data_grouped.sort_values(['score', self.item_id], ascending = [0,1])\n",
    "\t\t# The new column named Rank is created by score sorted in ascending order.\n",
    "\t\ttrain_data_sort['Rank'] = train_data_sort['score'].rank(ascending = 0, method = 'first')\n",
    "\n",
    "\n",
    "\t\t# The first 15 items are saved into the popularity_recommendataions and it is returned. \n",
    "\t\tself.popularity_recommendataions = train_data_sort.head(15)\n",
    "\n",
    "\n",
    "\t# Method to user created recommendations\n",
    "\tdef recommend(self, user_id):\n",
    "\n",
    "\t\t# Init the user_recommendataion var by popularity_recommendataions since the recommendations has been saved into this column.\n",
    "\t\tuser_recommendataion = self.popularity_recommendataions\n",
    "\n",
    "\t\t# Get the user_id\n",
    "\t\tuser_recommendataion['user_id'] = user_id\n",
    "\n",
    "\t\t# Set the columns\n",
    "\t\tcols = user_recommendataion.columns.tolist()\n",
    "\t\tcols = cols[-1:] + cols[:-1]\n",
    "\t\tuser_recommendataion = user_recommendataion[cols]\n",
    "\n",
    "\t\treturn user_recommendataion"
   ]
  },
  {
   "cell_type": "code",
   "execution_count": 78,
   "metadata": {},
   "outputs": [],
   "source": [
    "pr = Popularity_Recommender()\n",
    "pr.create(train_data, 'user_id', 'song')"
   ]
  },
  {
   "cell_type": "markdown",
   "metadata": {},
   "source": [
    "### Use popularity model to predict some recommendation"
   ]
  },
  {
   "cell_type": "code",
   "execution_count": 82,
   "metadata": {},
   "outputs": [
    {
     "data": {
      "text/html": [
       "<div>\n",
       "<style>\n",
       "    .dataframe thead tr:only-child th {\n",
       "        text-align: right;\n",
       "    }\n",
       "\n",
       "    .dataframe thead th {\n",
       "        text-align: left;\n",
       "    }\n",
       "\n",
       "    .dataframe tbody tr th {\n",
       "        vertical-align: top;\n",
       "    }\n",
       "</style>\n",
       "<table border=\"1\" class=\"dataframe\">\n",
       "  <thead>\n",
       "    <tr style=\"text-align: right;\">\n",
       "      <th></th>\n",
       "      <th>user_id</th>\n",
       "      <th>song</th>\n",
       "      <th>score</th>\n",
       "      <th>Rank</th>\n",
       "    </tr>\n",
       "  </thead>\n",
       "  <tbody>\n",
       "    <tr>\n",
       "      <th>7122</th>\n",
       "      <td>b80344d063b5ccb3212f76538f3d9e43d87dca9e</td>\n",
       "      <td>Sehr kosmisch - Harmonia</td>\n",
       "      <td>4812</td>\n",
       "      <td>1.0</td>\n",
       "    </tr>\n",
       "    <tr>\n",
       "      <th>9077</th>\n",
       "      <td>b80344d063b5ccb3212f76538f3d9e43d87dca9e</td>\n",
       "      <td>Undo - Björk</td>\n",
       "      <td>4211</td>\n",
       "      <td>2.0</td>\n",
       "    </tr>\n",
       "    <tr>\n",
       "      <th>9873</th>\n",
       "      <td>b80344d063b5ccb3212f76538f3d9e43d87dca9e</td>\n",
       "      <td>You\\'re The One - Dwight Yoakam</td>\n",
       "      <td>3819</td>\n",
       "      <td>3.0</td>\n",
       "    </tr>\n",
       "    <tr>\n",
       "      <th>2062</th>\n",
       "      <td>b80344d063b5ccb3212f76538f3d9e43d87dca9e</td>\n",
       "      <td>Dog Days Are Over (Radio Edit) - Florence + Th...</td>\n",
       "      <td>3624</td>\n",
       "      <td>4.0</td>\n",
       "    </tr>\n",
       "    <tr>\n",
       "      <th>6769</th>\n",
       "      <td>b80344d063b5ccb3212f76538f3d9e43d87dca9e</td>\n",
       "      <td>Revelry - Kings Of Leon</td>\n",
       "      <td>3485</td>\n",
       "      <td>5.0</td>\n",
       "    </tr>\n",
       "    <tr>\n",
       "      <th>3608</th>\n",
       "      <td>b80344d063b5ccb3212f76538f3d9e43d87dca9e</td>\n",
       "      <td>Horn Concerto No. 4 in E flat K495: II. Romanc...</td>\n",
       "      <td>3188</td>\n",
       "      <td>6.0</td>\n",
       "    </tr>\n",
       "    <tr>\n",
       "      <th>7110</th>\n",
       "      <td>b80344d063b5ccb3212f76538f3d9e43d87dca9e</td>\n",
       "      <td>Secrets - OneRepublic</td>\n",
       "      <td>3103</td>\n",
       "      <td>7.0</td>\n",
       "    </tr>\n",
       "    <tr>\n",
       "      <th>8840</th>\n",
       "      <td>b80344d063b5ccb3212f76538f3d9e43d87dca9e</td>\n",
       "      <td>Tive Sim - Cartola</td>\n",
       "      <td>2551</td>\n",
       "      <td>8.0</td>\n",
       "    </tr>\n",
       "    <tr>\n",
       "      <th>2712</th>\n",
       "      <td>b80344d063b5ccb3212f76538f3d9e43d87dca9e</td>\n",
       "      <td>Fireflies - Charttraxx Karaoke</td>\n",
       "      <td>2525</td>\n",
       "      <td>9.0</td>\n",
       "    </tr>\n",
       "    <tr>\n",
       "      <th>3480</th>\n",
       "      <td>b80344d063b5ccb3212f76538f3d9e43d87dca9e</td>\n",
       "      <td>Hey_ Soul Sister - Train</td>\n",
       "      <td>2505</td>\n",
       "      <td>10.0</td>\n",
       "    </tr>\n",
       "    <tr>\n",
       "      <th>5963</th>\n",
       "      <td>b80344d063b5ccb3212f76538f3d9e43d87dca9e</td>\n",
       "      <td>OMG - Usher featuring will.i.am</td>\n",
       "      <td>2032</td>\n",
       "      <td>11.0</td>\n",
       "    </tr>\n",
       "    <tr>\n",
       "      <th>2221</th>\n",
       "      <td>b80344d063b5ccb3212f76538f3d9e43d87dca9e</td>\n",
       "      <td>Drop The World - Lil Wayne / Eminem</td>\n",
       "      <td>2023</td>\n",
       "      <td>12.0</td>\n",
       "    </tr>\n",
       "    <tr>\n",
       "      <th>5217</th>\n",
       "      <td>b80344d063b5ccb3212f76538f3d9e43d87dca9e</td>\n",
       "      <td>Marry Me - Train</td>\n",
       "      <td>1854</td>\n",
       "      <td>13.0</td>\n",
       "    </tr>\n",
       "    <tr>\n",
       "      <th>1384</th>\n",
       "      <td>b80344d063b5ccb3212f76538f3d9e43d87dca9e</td>\n",
       "      <td>Catch You Baby (Steve Pitron &amp; Max Sanna Radio...</td>\n",
       "      <td>1850</td>\n",
       "      <td>14.0</td>\n",
       "    </tr>\n",
       "    <tr>\n",
       "      <th>1331</th>\n",
       "      <td>b80344d063b5ccb3212f76538f3d9e43d87dca9e</td>\n",
       "      <td>Canada - Five Iron Frenzy</td>\n",
       "      <td>1800</td>\n",
       "      <td>15.0</td>\n",
       "    </tr>\n",
       "  </tbody>\n",
       "</table>\n",
       "</div>"
      ],
      "text/plain": [
       "                                       user_id  \\\n",
       "7122  b80344d063b5ccb3212f76538f3d9e43d87dca9e   \n",
       "9077  b80344d063b5ccb3212f76538f3d9e43d87dca9e   \n",
       "9873  b80344d063b5ccb3212f76538f3d9e43d87dca9e   \n",
       "2062  b80344d063b5ccb3212f76538f3d9e43d87dca9e   \n",
       "6769  b80344d063b5ccb3212f76538f3d9e43d87dca9e   \n",
       "3608  b80344d063b5ccb3212f76538f3d9e43d87dca9e   \n",
       "7110  b80344d063b5ccb3212f76538f3d9e43d87dca9e   \n",
       "8840  b80344d063b5ccb3212f76538f3d9e43d87dca9e   \n",
       "2712  b80344d063b5ccb3212f76538f3d9e43d87dca9e   \n",
       "3480  b80344d063b5ccb3212f76538f3d9e43d87dca9e   \n",
       "5963  b80344d063b5ccb3212f76538f3d9e43d87dca9e   \n",
       "2221  b80344d063b5ccb3212f76538f3d9e43d87dca9e   \n",
       "5217  b80344d063b5ccb3212f76538f3d9e43d87dca9e   \n",
       "1384  b80344d063b5ccb3212f76538f3d9e43d87dca9e   \n",
       "1331  b80344d063b5ccb3212f76538f3d9e43d87dca9e   \n",
       "\n",
       "                                                   song  score  Rank  \n",
       "7122                           Sehr kosmisch - Harmonia   4812   1.0  \n",
       "9077                                       Undo - Björk   4211   2.0  \n",
       "9873                    You\\'re The One - Dwight Yoakam   3819   3.0  \n",
       "2062  Dog Days Are Over (Radio Edit) - Florence + Th...   3624   4.0  \n",
       "6769                            Revelry - Kings Of Leon   3485   5.0  \n",
       "3608  Horn Concerto No. 4 in E flat K495: II. Romanc...   3188   6.0  \n",
       "7110                              Secrets - OneRepublic   3103   7.0  \n",
       "8840                                 Tive Sim - Cartola   2551   8.0  \n",
       "2712                     Fireflies - Charttraxx Karaoke   2525   9.0  \n",
       "3480                           Hey_ Soul Sister - Train   2505  10.0  \n",
       "5963                    OMG - Usher featuring will.i.am   2032  11.0  \n",
       "2221                Drop The World - Lil Wayne / Eminem   2023  12.0  \n",
       "5217                                   Marry Me - Train   1854  13.0  \n",
       "1384  Catch You Baby (Steve Pitron & Max Sanna Radio...   1850  14.0  \n",
       "1331                          Canada - Five Iron Frenzy   1800  15.0  "
      ]
     },
     "execution_count": 82,
     "metadata": {},
     "output_type": "execute_result"
    }
   ],
   "source": [
    "pr.recommend(users[0])"
   ]
  },
  {
   "cell_type": "code",
   "execution_count": 83,
   "metadata": {},
   "outputs": [
    {
     "data": {
      "text/html": [
       "<div>\n",
       "<style>\n",
       "    .dataframe thead tr:only-child th {\n",
       "        text-align: right;\n",
       "    }\n",
       "\n",
       "    .dataframe thead th {\n",
       "        text-align: left;\n",
       "    }\n",
       "\n",
       "    .dataframe tbody tr th {\n",
       "        vertical-align: top;\n",
       "    }\n",
       "</style>\n",
       "<table border=\"1\" class=\"dataframe\">\n",
       "  <thead>\n",
       "    <tr style=\"text-align: right;\">\n",
       "      <th></th>\n",
       "      <th>user_id</th>\n",
       "      <th>song</th>\n",
       "      <th>score</th>\n",
       "      <th>Rank</th>\n",
       "    </tr>\n",
       "  </thead>\n",
       "  <tbody>\n",
       "    <tr>\n",
       "      <th>7122</th>\n",
       "      <td>85c1f87fea955d09b4bec2e36aee110927aedf9a</td>\n",
       "      <td>Sehr kosmisch - Harmonia</td>\n",
       "      <td>4812</td>\n",
       "      <td>1.0</td>\n",
       "    </tr>\n",
       "    <tr>\n",
       "      <th>9077</th>\n",
       "      <td>85c1f87fea955d09b4bec2e36aee110927aedf9a</td>\n",
       "      <td>Undo - Björk</td>\n",
       "      <td>4211</td>\n",
       "      <td>2.0</td>\n",
       "    </tr>\n",
       "    <tr>\n",
       "      <th>9873</th>\n",
       "      <td>85c1f87fea955d09b4bec2e36aee110927aedf9a</td>\n",
       "      <td>You\\'re The One - Dwight Yoakam</td>\n",
       "      <td>3819</td>\n",
       "      <td>3.0</td>\n",
       "    </tr>\n",
       "    <tr>\n",
       "      <th>2062</th>\n",
       "      <td>85c1f87fea955d09b4bec2e36aee110927aedf9a</td>\n",
       "      <td>Dog Days Are Over (Radio Edit) - Florence + Th...</td>\n",
       "      <td>3624</td>\n",
       "      <td>4.0</td>\n",
       "    </tr>\n",
       "    <tr>\n",
       "      <th>6769</th>\n",
       "      <td>85c1f87fea955d09b4bec2e36aee110927aedf9a</td>\n",
       "      <td>Revelry - Kings Of Leon</td>\n",
       "      <td>3485</td>\n",
       "      <td>5.0</td>\n",
       "    </tr>\n",
       "    <tr>\n",
       "      <th>3608</th>\n",
       "      <td>85c1f87fea955d09b4bec2e36aee110927aedf9a</td>\n",
       "      <td>Horn Concerto No. 4 in E flat K495: II. Romanc...</td>\n",
       "      <td>3188</td>\n",
       "      <td>6.0</td>\n",
       "    </tr>\n",
       "    <tr>\n",
       "      <th>7110</th>\n",
       "      <td>85c1f87fea955d09b4bec2e36aee110927aedf9a</td>\n",
       "      <td>Secrets - OneRepublic</td>\n",
       "      <td>3103</td>\n",
       "      <td>7.0</td>\n",
       "    </tr>\n",
       "    <tr>\n",
       "      <th>8840</th>\n",
       "      <td>85c1f87fea955d09b4bec2e36aee110927aedf9a</td>\n",
       "      <td>Tive Sim - Cartola</td>\n",
       "      <td>2551</td>\n",
       "      <td>8.0</td>\n",
       "    </tr>\n",
       "    <tr>\n",
       "      <th>2712</th>\n",
       "      <td>85c1f87fea955d09b4bec2e36aee110927aedf9a</td>\n",
       "      <td>Fireflies - Charttraxx Karaoke</td>\n",
       "      <td>2525</td>\n",
       "      <td>9.0</td>\n",
       "    </tr>\n",
       "    <tr>\n",
       "      <th>3480</th>\n",
       "      <td>85c1f87fea955d09b4bec2e36aee110927aedf9a</td>\n",
       "      <td>Hey_ Soul Sister - Train</td>\n",
       "      <td>2505</td>\n",
       "      <td>10.0</td>\n",
       "    </tr>\n",
       "    <tr>\n",
       "      <th>5963</th>\n",
       "      <td>85c1f87fea955d09b4bec2e36aee110927aedf9a</td>\n",
       "      <td>OMG - Usher featuring will.i.am</td>\n",
       "      <td>2032</td>\n",
       "      <td>11.0</td>\n",
       "    </tr>\n",
       "    <tr>\n",
       "      <th>2221</th>\n",
       "      <td>85c1f87fea955d09b4bec2e36aee110927aedf9a</td>\n",
       "      <td>Drop The World - Lil Wayne / Eminem</td>\n",
       "      <td>2023</td>\n",
       "      <td>12.0</td>\n",
       "    </tr>\n",
       "    <tr>\n",
       "      <th>5217</th>\n",
       "      <td>85c1f87fea955d09b4bec2e36aee110927aedf9a</td>\n",
       "      <td>Marry Me - Train</td>\n",
       "      <td>1854</td>\n",
       "      <td>13.0</td>\n",
       "    </tr>\n",
       "    <tr>\n",
       "      <th>1384</th>\n",
       "      <td>85c1f87fea955d09b4bec2e36aee110927aedf9a</td>\n",
       "      <td>Catch You Baby (Steve Pitron &amp; Max Sanna Radio...</td>\n",
       "      <td>1850</td>\n",
       "      <td>14.0</td>\n",
       "    </tr>\n",
       "    <tr>\n",
       "      <th>1331</th>\n",
       "      <td>85c1f87fea955d09b4bec2e36aee110927aedf9a</td>\n",
       "      <td>Canada - Five Iron Frenzy</td>\n",
       "      <td>1800</td>\n",
       "      <td>15.0</td>\n",
       "    </tr>\n",
       "  </tbody>\n",
       "</table>\n",
       "</div>"
      ],
      "text/plain": [
       "                                       user_id  \\\n",
       "7122  85c1f87fea955d09b4bec2e36aee110927aedf9a   \n",
       "9077  85c1f87fea955d09b4bec2e36aee110927aedf9a   \n",
       "9873  85c1f87fea955d09b4bec2e36aee110927aedf9a   \n",
       "2062  85c1f87fea955d09b4bec2e36aee110927aedf9a   \n",
       "6769  85c1f87fea955d09b4bec2e36aee110927aedf9a   \n",
       "3608  85c1f87fea955d09b4bec2e36aee110927aedf9a   \n",
       "7110  85c1f87fea955d09b4bec2e36aee110927aedf9a   \n",
       "8840  85c1f87fea955d09b4bec2e36aee110927aedf9a   \n",
       "2712  85c1f87fea955d09b4bec2e36aee110927aedf9a   \n",
       "3480  85c1f87fea955d09b4bec2e36aee110927aedf9a   \n",
       "5963  85c1f87fea955d09b4bec2e36aee110927aedf9a   \n",
       "2221  85c1f87fea955d09b4bec2e36aee110927aedf9a   \n",
       "5217  85c1f87fea955d09b4bec2e36aee110927aedf9a   \n",
       "1384  85c1f87fea955d09b4bec2e36aee110927aedf9a   \n",
       "1331  85c1f87fea955d09b4bec2e36aee110927aedf9a   \n",
       "\n",
       "                                                   song  score  Rank  \n",
       "7122                           Sehr kosmisch - Harmonia   4812   1.0  \n",
       "9077                                       Undo - Björk   4211   2.0  \n",
       "9873                    You\\'re The One - Dwight Yoakam   3819   3.0  \n",
       "2062  Dog Days Are Over (Radio Edit) - Florence + Th...   3624   4.0  \n",
       "6769                            Revelry - Kings Of Leon   3485   5.0  \n",
       "3608  Horn Concerto No. 4 in E flat K495: II. Romanc...   3188   6.0  \n",
       "7110                              Secrets - OneRepublic   3103   7.0  \n",
       "8840                                 Tive Sim - Cartola   2551   8.0  \n",
       "2712                     Fireflies - Charttraxx Karaoke   2525   9.0  \n",
       "3480                           Hey_ Soul Sister - Train   2505  10.0  \n",
       "5963                    OMG - Usher featuring will.i.am   2032  11.0  \n",
       "2221                Drop The World - Lil Wayne / Eminem   2023  12.0  \n",
       "5217                                   Marry Me - Train   1854  13.0  \n",
       "1384  Catch You Baby (Steve Pitron & Max Sanna Radio...   1850  14.0  \n",
       "1331                          Canada - Five Iron Frenzy   1800  15.0  "
      ]
     },
     "execution_count": 83,
     "metadata": {},
     "output_type": "execute_result"
    }
   ],
   "source": [
    "pr.recommend(users[1])"
   ]
  },
  {
   "cell_type": "markdown",
   "metadata": {},
   "source": [
    "### Note: Every body (User_1 and User_2 both) got same recommendation, this is the problem with popularity remommendation model"
   ]
  },
  {
   "cell_type": "markdown",
   "metadata": {},
   "source": [
    "# Build a song recommender with personalization"
   ]
  },
  {
   "cell_type": "code",
   "execution_count": null,
   "metadata": {},
   "outputs": [],
   "source": []
  },
  {
   "cell_type": "markdown",
   "metadata": {},
   "source": [
    "## Aplying personalization model to make song recommendations"
   ]
  },
  {
   "cell_type": "code",
   "execution_count": null,
   "metadata": {},
   "outputs": [],
   "source": []
  },
  {
   "cell_type": "markdown",
   "metadata": {},
   "source": [
    "### Accucary of the models"
   ]
  },
  {
   "cell_type": "code",
   "execution_count": null,
   "metadata": {},
   "outputs": [],
   "source": []
  },
  {
   "cell_type": "markdown",
   "metadata": {},
   "source": [
    "# Assignment"
   ]
  },
  {
   "cell_type": "markdown",
   "metadata": {},
   "source": [
    "### Compute the number of unique users for each of these artists: 'Kanye West', 'Foo Fighters', 'Taylor Swift' and 'Lady GaGa'"
   ]
  },
  {
   "cell_type": "code",
   "execution_count": 86,
   "metadata": {},
   "outputs": [
    {
     "name": "stdout",
     "output_type": "stream",
     "text": [
      "2522\n",
      "2055\n",
      "3246\n",
      "2928\n"
     ]
    }
   ],
   "source": [
    "song_data_kanye_west = song_data[song_data[\"artist\"] == \"Kanye West\"]['user_id'].unique()\n",
    "song_data_foo_fighters = song_data[song_data[\"artist\"] == \"Foo Fighters\"]['user_id'].unique()\n",
    "song_data_taylor_swift = song_data[song_data[\"artist\"] == \"Taylor Swift\"]['user_id'].unique()\n",
    "song_data_lady_gaGa = song_data[song_data[\"artist\"] == \"Lady GaGa\"]['user_id'].unique()\n",
    "\n",
    "print(len(song_data_kanye_west))\n",
    "print(len(song_data_foo_fighters))\n",
    "print(len(song_data_taylor_swift))\n",
    "print(len(song_data_lady_gaGa))"
   ]
  },
  {
   "cell_type": "code",
   "execution_count": 87,
   "metadata": {},
   "outputs": [],
   "source": [
    "artist_song_count_data = song_data.groupby(['artist']).agg({'listen_count': 'sum'}).reset_index()"
   ]
  },
  {
   "cell_type": "code",
   "execution_count": 91,
   "metadata": {},
   "outputs": [
    {
     "data": {
      "text/html": [
       "<div>\n",
       "<style>\n",
       "    .dataframe thead tr:only-child th {\n",
       "        text-align: right;\n",
       "    }\n",
       "\n",
       "    .dataframe thead th {\n",
       "        text-align: left;\n",
       "    }\n",
       "\n",
       "    .dataframe tbody tr th {\n",
       "        vertical-align: top;\n",
       "    }\n",
       "</style>\n",
       "<table border=\"1\" class=\"dataframe\">\n",
       "  <thead>\n",
       "    <tr style=\"text-align: right;\">\n",
       "      <th></th>\n",
       "      <th>artist</th>\n",
       "      <th>listen_count</th>\n",
       "    </tr>\n",
       "  </thead>\n",
       "  <tbody>\n",
       "    <tr>\n",
       "      <th>1649</th>\n",
       "      <td>Kings Of Leon</td>\n",
       "      <td>43218</td>\n",
       "    </tr>\n",
       "    <tr>\n",
       "      <th>913</th>\n",
       "      <td>Dwight Yoakam</td>\n",
       "      <td>40619</td>\n",
       "    </tr>\n",
       "    <tr>\n",
       "      <th>344</th>\n",
       "      <td>Björk</td>\n",
       "      <td>38889</td>\n",
       "    </tr>\n",
       "    <tr>\n",
       "      <th>648</th>\n",
       "      <td>Coldplay</td>\n",
       "      <td>35362</td>\n",
       "    </tr>\n",
       "    <tr>\n",
       "      <th>1106</th>\n",
       "      <td>Florence + The Machine</td>\n",
       "      <td>33387</td>\n",
       "    </tr>\n",
       "  </tbody>\n",
       "</table>\n",
       "</div>"
      ],
      "text/plain": [
       "                      artist  listen_count\n",
       "1649           Kings Of Leon         43218\n",
       "913            Dwight Yoakam         40619\n",
       "344                    Björk         38889\n",
       "648                 Coldplay         35362\n",
       "1106  Florence + The Machine         33387"
      ]
     },
     "execution_count": 91,
     "metadata": {},
     "output_type": "execute_result"
    }
   ],
   "source": [
    "artist_song_count_data.sort_values(\"listen_count\", ascending=False).head(5)"
   ]
  },
  {
   "cell_type": "code",
   "execution_count": 92,
   "metadata": {},
   "outputs": [
    {
     "data": {
      "text/html": [
       "<div>\n",
       "<style>\n",
       "    .dataframe thead tr:only-child th {\n",
       "        text-align: right;\n",
       "    }\n",
       "\n",
       "    .dataframe thead th {\n",
       "        text-align: left;\n",
       "    }\n",
       "\n",
       "    .dataframe tbody tr th {\n",
       "        vertical-align: top;\n",
       "    }\n",
       "</style>\n",
       "<table border=\"1\" class=\"dataframe\">\n",
       "  <thead>\n",
       "    <tr style=\"text-align: right;\">\n",
       "      <th></th>\n",
       "      <th>artist</th>\n",
       "      <th>listen_count</th>\n",
       "    </tr>\n",
       "  </thead>\n",
       "  <tbody>\n",
       "    <tr>\n",
       "      <th>3301</th>\n",
       "      <td>William Tabbert</td>\n",
       "      <td>14</td>\n",
       "    </tr>\n",
       "    <tr>\n",
       "      <th>2410</th>\n",
       "      <td>Reel Feelings</td>\n",
       "      <td>24</td>\n",
       "    </tr>\n",
       "    <tr>\n",
       "      <th>308</th>\n",
       "      <td>Beyoncé feat. Bun B and Slim Thug</td>\n",
       "      <td>26</td>\n",
       "    </tr>\n",
       "    <tr>\n",
       "      <th>401</th>\n",
       "      <td>Boggle Karaoke</td>\n",
       "      <td>30</td>\n",
       "    </tr>\n",
       "    <tr>\n",
       "      <th>856</th>\n",
       "      <td>Diplo</td>\n",
       "      <td>30</td>\n",
       "    </tr>\n",
       "  </tbody>\n",
       "</table>\n",
       "</div>"
      ],
      "text/plain": [
       "                                 artist  listen_count\n",
       "3301                    William Tabbert            14\n",
       "2410                      Reel Feelings            24\n",
       "308   Beyoncé feat. Bun B and Slim Thug            26\n",
       "401                      Boggle Karaoke            30\n",
       "856                               Diplo            30"
      ]
     },
     "execution_count": 92,
     "metadata": {},
     "output_type": "execute_result"
    }
   ],
   "source": [
    "artist_song_count_data.sort_values(\"listen_count\", ascending=True).head(5)"
   ]
  },
  {
   "cell_type": "code",
   "execution_count": null,
   "metadata": {},
   "outputs": [],
   "source": []
  }
 ],
 "metadata": {
  "kernelspec": {
   "display_name": "Python 3",
   "language": "python",
   "name": "python3"
  },
  "language_info": {
   "codemirror_mode": {
    "name": "ipython",
    "version": 3
   },
   "file_extension": ".py",
   "mimetype": "text/x-python",
   "name": "python",
   "nbconvert_exporter": "python",
   "pygments_lexer": "ipython3",
   "version": "3.6.2"
  }
 },
 "nbformat": 4,
 "nbformat_minor": 2
}
