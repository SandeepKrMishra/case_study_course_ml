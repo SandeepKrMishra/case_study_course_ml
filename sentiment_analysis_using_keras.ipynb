{
 "cells": [
  {
   "cell_type": "code",
   "execution_count": 85,
   "metadata": {},
   "outputs": [],
   "source": [
    "import numpy as np\n",
    "import pandas as pd\n",
    "\n",
    "import matplotlib.pyplot as plt\n",
    "from sklearn.cross_validation import train_test_split\n",
    "\n",
    "from sklearn.preprocessing import LabelEncoder\n",
    "from sklearn.preprocessing import OneHotEncoder\n",
    "\n",
    "from nltk.corpus import stopwords\n",
    "import nltk\n",
    "\n",
    "from keras.models import Sequential\n",
    "from keras.models import Model\n",
    "from keras.layers import Dense, Input, Dropout, LSTM, Activation\n",
    "from keras.layers.embeddings import Embedding\n",
    "from keras.preprocessing import sequence\n",
    "from keras.initializers import glorot_uniform\n",
    "np.random.seed(1)\n",
    "\n",
    "%matplotlib inline"
   ]
  },
  {
   "cell_type": "code",
   "execution_count": 2,
   "metadata": {},
   "outputs": [
    {
     "data": {
      "text/html": [
       "<div>\n",
       "<style scoped>\n",
       "    .dataframe tbody tr th:only-of-type {\n",
       "        vertical-align: middle;\n",
       "    }\n",
       "\n",
       "    .dataframe tbody tr th {\n",
       "        vertical-align: top;\n",
       "    }\n",
       "\n",
       "    .dataframe thead th {\n",
       "        text-align: right;\n",
       "    }\n",
       "</style>\n",
       "<table border=\"1\" class=\"dataframe\">\n",
       "  <thead>\n",
       "    <tr style=\"text-align: right;\">\n",
       "      <th></th>\n",
       "      <th>Unnamed: 0</th>\n",
       "      <th>sentiment</th>\n",
       "      <th>content</th>\n",
       "    </tr>\n",
       "  </thead>\n",
       "  <tbody>\n",
       "    <tr>\n",
       "      <th>0</th>\n",
       "      <td>1631</td>\n",
       "      <td>hate</td>\n",
       "      <td>My stomach is killing me do j can't sleep</td>\n",
       "    </tr>\n",
       "    <tr>\n",
       "      <th>1</th>\n",
       "      <td>8481</td>\n",
       "      <td>anger</td>\n",
       "      <td>@anz_rocks19  i have to break the twitterparty...</td>\n",
       "    </tr>\n",
       "    <tr>\n",
       "      <th>2</th>\n",
       "      <td>763</td>\n",
       "      <td>hate</td>\n",
       "      <td>Taking back the HORRIBLE shoes my mum made me ...</td>\n",
       "    </tr>\n",
       "    <tr>\n",
       "      <th>3</th>\n",
       "      <td>396</td>\n",
       "      <td>sadness</td>\n",
       "      <td>my stupid tooooth hurts</td>\n",
       "    </tr>\n",
       "    <tr>\n",
       "      <th>4</th>\n",
       "      <td>18851</td>\n",
       "      <td>anger</td>\n",
       "      <td>too sick for rigging tomorrow.</td>\n",
       "    </tr>\n",
       "  </tbody>\n",
       "</table>\n",
       "</div>"
      ],
      "text/plain": [
       "   Unnamed: 0 sentiment                                            content\n",
       "0        1631      hate          My stomach is killing me do j can't sleep\n",
       "1        8481     anger  @anz_rocks19  i have to break the twitterparty...\n",
       "2         763      hate  Taking back the HORRIBLE shoes my mum made me ...\n",
       "3         396   sadness                            my stupid tooooth hurts\n",
       "4       18851     anger                     too sick for rigging tomorrow."
      ]
     },
     "execution_count": 2,
     "metadata": {},
     "output_type": "execute_result"
    }
   ],
   "source": [
    "data =pd.read_csv(\"C:/Users/mohit/Desktop/NN/sentiment_data_5l.csv\")\n",
    "data.head()"
   ]
  },
  {
   "cell_type": "code",
   "execution_count": 3,
   "metadata": {},
   "outputs": [],
   "source": [
    "stop_words = set(stopwords.words('english'))"
   ]
  },
  {
   "cell_type": "code",
   "execution_count": 4,
   "metadata": {},
   "outputs": [],
   "source": [
    "train_data, test_data = train_test_split(data, test_size=0.2, random_state=0)"
   ]
  },
  {
   "cell_type": "markdown",
   "metadata": {},
   "source": [
    "# Load Glove 50dim and create word_to_index, index_to_word, word_to_vec_map"
   ]
  },
  {
   "cell_type": "code",
   "execution_count": 86,
   "metadata": {},
   "outputs": [],
   "source": [
    "word_embedding =open('D:/word_embedding/pre_trained_gloVe/glove.6B/glove.6B.50d.txt',encoding='utf8')"
   ]
  },
  {
   "cell_type": "code",
   "execution_count": 87,
   "metadata": {},
   "outputs": [],
   "source": [
    "def read_glove_vecs(glovefile):\n",
    "    word_list = []\n",
    "    word_to_index = {}\n",
    "    index_to_word = {}\n",
    "    word_to_vec_map={}\n",
    "    index = 0\n",
    "    for line in glovefile: \n",
    "        word =line.split(\" \")\n",
    "        word_vec_list =np.float_(word[1:51])\n",
    "        word_list.append(word[0])\n",
    "        word_to_vec_map[word[0]] =word_vec_list\n",
    "        word_to_index[word[0]] = index\n",
    "        index = index + 1\n",
    "        \n",
    "    index_to_word = dict(zip(word_to_index.values(), word_to_index.keys()))\n",
    "    \n",
    "    return (word_to_index, index_to_word, word_to_vec_map, word_list)\n",
    "\n",
    "def pretrained_embedding_layer1(word_to_vec_map, word_to_index):\n",
    "    \n",
    "    vocab_len = len(word_to_vec_map)+1\n",
    "    emb_dim = 50\n",
    "    \n",
    "    matrix = np.zeros((vocab_len, emb_dim))\n",
    "    \n",
    "    \n",
    "    for word, index in word_to_index.items():\n",
    "        matrix[index, : ] = word_to_vec_map[word]\n",
    "        \n",
    "    \n",
    "    embedding_layer = Embedding(vocab_len, emb_dim, trainable=False)\n",
    "  \n",
    "    embedding_layer.build((None,))\n",
    "    embedding_layer.set_weights([matrix])\n",
    "    return embedding_layer\n",
    "    \n",
    "def sentences_to_indices1(X, word_to_index, max_len):\n",
    "    m = X.shape[0]\n",
    "    sentences_indices = np.zeros((m, max_len))\n",
    "    \n",
    "    print(sentences_indices.shape)\n",
    "    \n",
    "    for i in range(m):\n",
    "        words = [word.lower() for word in X[i].split() if not word in stop_words]\n",
    "        #words = [word.lower() for word in X[i].split()]\n",
    "        \n",
    "        \n",
    "        j = 0\n",
    "        for word in words:\n",
    "            sentences_indices[i, j] = word_to_index.get(word)\n",
    "            j += 1\n",
    "            \n",
    "    \n",
    "    return sentences_indices \n",
    "\n",
    "def sentences_to_indices(X, word_to_index, max_len):\n",
    "    \"\"\"\n",
    "    Converts an array of sentences (strings) into an array of indices corresponding to words in the sentences.\n",
    "    The output shape should be such that it can be given to `Embedding()` (described in Figure 4). \n",
    "    \n",
    "    Arguments:\n",
    "    X -- array of sentences (strings), of shape (m, 1)\n",
    "    word_to_index -- a dictionary containing the each word mapped to its index\n",
    "    max_len -- maximum number of words in a sentence. You can assume every sentence in X is no longer than this. \n",
    "    \n",
    "    Returns:\n",
    "    X_indices -- array of indices corresponding to words in the sentences from X, of shape (m, max_len)\n",
    "    \"\"\"\n",
    "    \n",
    "    m = X.shape[0]                                   # number of training examples\n",
    "    \n",
    "    ### START CODE HERE ###\n",
    "    # Initialize X_indices as a numpy matrix of zeros and the correct shape (≈ 1 line)\n",
    "    X_indices = np.zeros((m, max_len))\n",
    "    \n",
    "    for i in range(m):                               # loop over training examples\n",
    "        \n",
    "        # Convert the ith training sentence in lower case and split is into words. You should get a list of words.\n",
    "        sentence_words = [w.lower() for w in X[i].split()]\n",
    "        \n",
    "        # Initialize j to 0\n",
    "        j = 0\n",
    "        \n",
    "        # Loop over the words of sentence_words\n",
    "        for w in sentence_words:\n",
    "            # Set the (i,j)th entry of X_indices to the index of the correct word.\n",
    "            if word_to_index.get(w) is not None:\n",
    "                X_indices[i, j] = word_to_index[w]\n",
    "                # Increment j to j + 1\n",
    "                j += 1\n",
    "            \n",
    "    ### END CODE HERE ###\n",
    "    \n",
    "    return X_indices\n",
    "\n",
    "def pretrained_embedding_layer(word_to_vec_map, word_to_index):\n",
    "    \"\"\"\n",
    "    Creates a Keras Embedding() layer and loads in pre-trained GloVe 50-dimensional vectors.\n",
    "    \n",
    "    Arguments:\n",
    "    word_to_vec_map -- dictionary mapping words to their GloVe vector representation.\n",
    "    word_to_index -- dictionary mapping from words to their indices in the vocabulary (400,001 words)\n",
    "\n",
    "    Returns:\n",
    "    embedding_layer -- pretrained layer Keras instance\n",
    "    \"\"\"\n",
    "    \n",
    "    vocab_len = len(word_to_index) + 1                  # adding 1 to fit Keras embedding (requirement)\n",
    "    emb_dim = word_to_vec_map[\"cucumber\"].shape[0]      # define dimensionality of your GloVe word vectors (= 50)\n",
    "    \n",
    "    ### START CODE HERE ###\n",
    "    # Initialize the embedding matrix as a numpy array of zeros of shape (vocab_len, dimensions of word vectors = emb_dim)\n",
    "    emb_matrix = np.zeros((vocab_len, emb_dim))\n",
    "    \n",
    "    # Set each row \"index\" of the embedding matrix to be the word vector representation of the \"index\"th word of the vocabulary\n",
    "    for word, index in word_to_index.items():\n",
    "        emb_matrix[index, :] = word_to_vec_map[word]\n",
    "\n",
    "    # Define Keras embedding layer with the correct output/input sizes, make it trainable. Use Embedding(...). Make sure to set trainable=False. \n",
    "    embedding_layer = Embedding(vocab_len, emb_dim, trainable=False)\n",
    "    ### END CODE HERE ###\n",
    "\n",
    "    # Build the embedding layer, it is required before setting the weights of the embedding layer. Do not modify the \"None\".\n",
    "    embedding_layer.build((None,))\n",
    "    \n",
    "    # Set the weights of the embedding layer to the embedding matrix. Your layer is now pretrained.\n",
    "    embedding_layer.set_weights([emb_matrix])\n",
    "    \n",
    "    return embedding_layer\n",
    "\n",
    "def sentence_max_length(train_data):\n",
    "    max_len = 0\n",
    "    for sen in  train_data[\"content\"].values:\n",
    "        if len(sen.split()) > max_len:\n",
    "            max_len = len(sen.split())\n",
    "    return max_len\n",
    "\n",
    "def Emojify_V2(input_shape, word_to_vec_map, word_to_index):\n",
    "    \n",
    "    sentence_indices = Input(input_shape, dtype='int32')\n",
    "    \n",
    "    embedding_layer = pretrained_embedding_layer(word_to_vec_map, word_to_index)\n",
    "    \n",
    "    embeddings = embedding_layer(sentence_indices) \n",
    "    \n",
    "    X = LSTM(128, return_sequences = True)(embeddings)\n",
    "    X = Dropout(.5)(X)\n",
    "    X = LSTM(128, return_sequences = False)(X)\n",
    "    X = Dropout(.5)(X)\n",
    "    X = Dense(5)(X)\n",
    "    X = Activation('softmax')(X)\n",
    "    \n",
    "    model = Model(inputs=sentence_indices, outputs=X)\n",
    "    return model\n",
    "    "
   ]
  },
  {
   "cell_type": "code",
   "execution_count": 88,
   "metadata": {},
   "outputs": [],
   "source": [
    "word_to_index, index_to_word, word_to_vec_map, word_list = read_glove_vecs(word_embedding)"
   ]
  },
  {
   "cell_type": "code",
   "execution_count": 89,
   "metadata": {},
   "outputs": [
    {
     "name": "stdout",
     "output_type": "stream",
     "text": [
      "weights[0][1][3] = 0.40951\n"
     ]
    }
   ],
   "source": [
    "embedding_layer = pretrained_embedding_layer(word_to_vec_map, word_to_index)\n",
    "print(\"weights[0][1][3] =\", embedding_layer.get_weights()[0][1][3])"
   ]
  },
  {
   "cell_type": "code",
   "execution_count": 90,
   "metadata": {},
   "outputs": [
    {
     "name": "stdout",
     "output_type": "stream",
     "text": [
      "X1 = ['funny lol' 'lets play baseball' 'food is ready for you']\n",
      "X1_indices = [[5.4660e+03 7.3048e+04 0.0000e+00 0.0000e+00 0.0000e+00]\n",
      " [8.2350e+03 2.8200e+02 1.4440e+03 0.0000e+00 0.0000e+00]\n",
      " [5.6500e+02 1.4000e+01 1.1880e+03 1.0000e+01 8.1000e+01]]\n"
     ]
    }
   ],
   "source": [
    "X1 = np.array([\"funny lol\", \"lets play baseball\", \"food is ready for you\"])\n",
    "X1_indices = sentences_to_indices(X1,word_to_index, max_len = 5)\n",
    "print(\"X1 =\", X1)\n",
    "print(\"X1_indices =\", X1_indices)"
   ]
  },
  {
   "cell_type": "code",
   "execution_count": 91,
   "metadata": {},
   "outputs": [
    {
     "data": {
      "text/plain": [
       "32"
      ]
     },
     "execution_count": 91,
     "metadata": {},
     "output_type": "execute_result"
    }
   ],
   "source": [
    "maxLen = sentence_max_length(train_data)\n",
    "maxLen"
   ]
  },
  {
   "cell_type": "code",
   "execution_count": 92,
   "metadata": {},
   "outputs": [
    {
     "data": {
      "text/plain": [
       "\"My stomach is killing me do j can't sleep\""
      ]
     },
     "execution_count": 92,
     "metadata": {},
     "output_type": "execute_result"
    }
   ],
   "source": [
    "X = train_data[\"content\"]\n",
    "X[0]"
   ]
  },
  {
   "cell_type": "code",
   "execution_count": 93,
   "metadata": {},
   "outputs": [
    {
     "name": "stdout",
     "output_type": "stream",
     "text": [
      "_________________________________________________________________\n",
      "Layer (type)                 Output Shape              Param #   \n",
      "=================================================================\n",
      "input_5 (InputLayer)         (None, 32)                0         \n",
      "_________________________________________________________________\n",
      "embedding_15 (Embedding)     (None, 32, 50)            20000050  \n",
      "_________________________________________________________________\n",
      "lstm_9 (LSTM)                (None, 32, 128)           91648     \n",
      "_________________________________________________________________\n",
      "dropout_9 (Dropout)          (None, 32, 128)           0         \n",
      "_________________________________________________________________\n",
      "lstm_10 (LSTM)               (None, 128)               131584    \n",
      "_________________________________________________________________\n",
      "dropout_10 (Dropout)         (None, 128)               0         \n",
      "_________________________________________________________________\n",
      "dense_5 (Dense)              (None, 5)                 645       \n",
      "_________________________________________________________________\n",
      "activation_5 (Activation)    (None, 5)                 0         \n",
      "=================================================================\n",
      "Total params: 20,223,927\n",
      "Trainable params: 223,877\n",
      "Non-trainable params: 20,000,050\n",
      "_________________________________________________________________\n"
     ]
    }
   ],
   "source": [
    "model = Emojify_V2((maxLen,), word_to_vec_map, word_to_index)\n",
    "model.summary()"
   ]
  },
  {
   "cell_type": "code",
   "execution_count": 94,
   "metadata": {},
   "outputs": [],
   "source": [
    "model.compile(loss='categorical_crossentropy', optimizer='adam', metrics=['accuracy'])"
   ]
  },
  {
   "cell_type": "code",
   "execution_count": 95,
   "metadata": {},
   "outputs": [],
   "source": [
    "X_train_indices = sentences_to_indices(train_data[\"content\"].values, word_to_index, maxLen)\n",
    "X_test_indices = sentences_to_indices(test_data[\"content\"].values, word_to_index, maxLen)"
   ]
  },
  {
   "cell_type": "code",
   "execution_count": 97,
   "metadata": {},
   "outputs": [
    {
     "name": "stderr",
     "output_type": "stream",
     "text": [
      "C:\\Users\\mohit\\Anaconda3\\envs\\py35\\lib\\site-packages\\sklearn\\preprocessing\\label.py:111: DataConversionWarning: A column-vector y was passed when a 1d array was expected. Please change the shape of y to (n_samples, ), for example using ravel().\n",
      "  y = column_or_1d(y, warn=True)\n"
     ]
    },
    {
     "name": "stdout",
     "output_type": "stream",
     "text": [
      "['anger' 'happiness' 'hate' 'love' 'sadness']\n"
     ]
    },
    {
     "name": "stderr",
     "output_type": "stream",
     "text": [
      "C:\\Users\\mohit\\Anaconda3\\envs\\py35\\lib\\site-packages\\sklearn\\preprocessing\\label.py:128: DataConversionWarning: A column-vector y was passed when a 1d array was expected. Please change the shape of y to (n_samples, ), for example using ravel().\n",
      "  y = column_or_1d(y, warn=True)\n"
     ]
    }
   ],
   "source": [
    "le = LabelEncoder()\n",
    "train_data_le_y = le.fit_transform(train_data[[\"sentiment\"]])\n",
    "test_data_le_y = le.transform(test_data[[\"sentiment\"]])\n",
    "le_classes = le.classes_\n",
    "print(le_classes)"
   ]
  },
  {
   "cell_type": "code",
   "execution_count": 98,
   "metadata": {},
   "outputs": [
    {
     "name": "stdout",
     "output_type": "stream",
     "text": [
      "(396, 5)\n",
      "(99, 5)\n"
     ]
    }
   ],
   "source": [
    "train_data_Y_hot_array = pd.get_dummies(pd.Series(train_data_le_y)).values\n",
    "test_data_Y_hot_array = pd.get_dummies(pd.Series(test_data_le_y)).values\n",
    "\n",
    "print(train_data_Y_hot_array.shape)\n",
    "print(test_data_Y_hot_array.shape)"
   ]
  },
  {
   "cell_type": "code",
   "execution_count": 102,
   "metadata": {},
   "outputs": [
    {
     "name": "stdout",
     "output_type": "stream",
     "text": [
      "Epoch 1/50\n",
      "396/396 [==============================] - 8s 19ms/step - loss: 1.6600 - acc: 0.1919\n",
      "Epoch 2/50\n",
      "396/396 [==============================] - 7s 18ms/step - loss: 1.6298 - acc: 0.1970\n",
      "Epoch 3/50\n",
      "396/396 [==============================] - 7s 17ms/step - loss: 1.6259 - acc: 0.1717\n",
      "Epoch 4/50\n",
      "396/396 [==============================] - 7s 17ms/step - loss: 1.6185 - acc: 0.1919\n",
      "Epoch 5/50\n",
      "396/396 [==============================] - 7s 18ms/step - loss: 1.6175 - acc: 0.2045\n",
      "Epoch 6/50\n",
      "396/396 [==============================] - 7s 18ms/step - loss: 1.6146 - acc: 0.2273\n",
      "Epoch 7/50\n",
      "396/396 [==============================] - 7s 18ms/step - loss: 1.6209 - acc: 0.2071\n",
      "Epoch 8/50\n",
      "396/396 [==============================] - 7s 18ms/step - loss: 1.6172 - acc: 0.1995\n",
      "Epoch 9/50\n",
      "396/396 [==============================] - 7s 17ms/step - loss: 1.6276 - acc: 0.1919\n",
      "Epoch 10/50\n",
      "396/396 [==============================] - 7s 18ms/step - loss: 1.6037 - acc: 0.2071\n",
      "Epoch 11/50\n",
      "396/396 [==============================] - 7s 18ms/step - loss: 1.5999 - acc: 0.2071\n",
      "Epoch 12/50\n",
      "396/396 [==============================] - 7s 17ms/step - loss: 1.6076 - acc: 0.2374\n",
      "Epoch 13/50\n",
      "396/396 [==============================] - 7s 17ms/step - loss: 1.5805 - acc: 0.2348\n",
      "Epoch 14/50\n",
      "396/396 [==============================] - 7s 17ms/step - loss: 1.5698 - acc: 0.2500\n",
      "Epoch 15/50\n",
      "396/396 [==============================] - 7s 17ms/step - loss: 1.5621 - acc: 0.2828\n",
      "Epoch 16/50\n",
      "396/396 [==============================] - 7s 18ms/step - loss: 1.5405 - acc: 0.2955\n",
      "Epoch 17/50\n",
      "396/396 [==============================] - 7s 17ms/step - loss: 1.5528 - acc: 0.2879\n",
      "Epoch 18/50\n",
      "396/396 [==============================] - 7s 17ms/step - loss: 1.5410 - acc: 0.2955\n",
      "Epoch 19/50\n",
      "396/396 [==============================] - 7s 17ms/step - loss: 1.5348 - acc: 0.2955\n",
      "Epoch 20/50\n",
      "396/396 [==============================] - 7s 17ms/step - loss: 1.5291 - acc: 0.2778\n",
      "Epoch 21/50\n",
      "396/396 [==============================] - 7s 17ms/step - loss: 1.5317 - acc: 0.2929\n",
      "Epoch 22/50\n",
      "396/396 [==============================] - 7s 18ms/step - loss: 1.5228 - acc: 0.3056\n",
      "Epoch 23/50\n",
      "396/396 [==============================] - 7s 17ms/step - loss: 1.5287 - acc: 0.2980\n",
      "Epoch 24/50\n",
      "396/396 [==============================] - 7s 17ms/step - loss: 1.4771 - acc: 0.3434\n",
      "Epoch 25/50\n",
      "396/396 [==============================] - 7s 17ms/step - loss: 1.4461 - acc: 0.3687\n",
      "Epoch 26/50\n",
      "396/396 [==============================] - 7s 17ms/step - loss: 1.4499 - acc: 0.3283\n",
      "Epoch 27/50\n",
      "396/396 [==============================] - 7s 17ms/step - loss: 1.4192 - acc: 0.3485\n",
      "Epoch 28/50\n",
      "396/396 [==============================] - 7s 17ms/step - loss: 1.3910 - acc: 0.3737\n",
      "Epoch 29/50\n",
      "396/396 [==============================] - 7s 17ms/step - loss: 1.3545 - acc: 0.4192\n",
      "Epoch 30/50\n",
      "396/396 [==============================] - 7s 17ms/step - loss: 1.2975 - acc: 0.4343\n",
      "Epoch 31/50\n",
      "396/396 [==============================] - 7s 17ms/step - loss: 1.2771 - acc: 0.4268\n",
      "Epoch 32/50\n",
      "396/396 [==============================] - 7s 17ms/step - loss: 1.2546 - acc: 0.4697\n",
      "Epoch 33/50\n",
      "396/396 [==============================] - 7s 17ms/step - loss: 1.2171 - acc: 0.4545\n",
      "Epoch 34/50\n",
      "396/396 [==============================] - 7s 17ms/step - loss: 1.1384 - acc: 0.5101\n",
      "Epoch 35/50\n",
      "396/396 [==============================] - 7s 18ms/step - loss: 1.1336 - acc: 0.4874\n",
      "Epoch 36/50\n",
      "396/396 [==============================] - 7s 17ms/step - loss: 1.2367 - acc: 0.4697\n",
      "Epoch 37/50\n",
      "396/396 [==============================] - 7s 18ms/step - loss: 1.2403 - acc: 0.4672\n",
      "Epoch 38/50\n",
      "396/396 [==============================] - 7s 17ms/step - loss: 1.0736 - acc: 0.5455\n",
      "Epoch 39/50\n",
      "396/396 [==============================] - 7s 17ms/step - loss: 1.1078 - acc: 0.5101\n",
      "Epoch 40/50\n",
      "396/396 [==============================] - 7s 17ms/step - loss: 1.0607 - acc: 0.5379\n",
      "Epoch 41/50\n",
      "396/396 [==============================] - 7s 17ms/step - loss: 0.9542 - acc: 0.6010\n",
      "Epoch 42/50\n",
      "396/396 [==============================] - 7s 17ms/step - loss: 0.9954 - acc: 0.6035\n",
      "Epoch 43/50\n",
      "396/396 [==============================] - 7s 17ms/step - loss: 0.8878 - acc: 0.6591\n",
      "Epoch 44/50\n",
      "396/396 [==============================] - 7s 17ms/step - loss: 0.9245 - acc: 0.5960\n",
      "Epoch 45/50\n",
      "396/396 [==============================] - 7s 17ms/step - loss: 0.9172 - acc: 0.6364\n",
      "Epoch 46/50\n",
      "396/396 [==============================] - 7s 17ms/step - loss: 0.9195 - acc: 0.6237\n",
      "Epoch 47/50\n",
      "396/396 [==============================] - 7s 17ms/step - loss: 0.8564 - acc: 0.6692\n",
      "Epoch 48/50\n",
      "396/396 [==============================] - 7s 17ms/step - loss: 0.7739 - acc: 0.7020\n",
      "Epoch 49/50\n",
      "396/396 [==============================] - 7s 17ms/step - loss: 0.8297 - acc: 0.6995\n",
      "Epoch 50/50\n",
      "396/396 [==============================] - 7s 17ms/step - loss: 0.7831 - acc: 0.6995\n"
     ]
    },
    {
     "data": {
      "text/plain": [
       "<keras.callbacks.History at 0x5a944c1550>"
      ]
     },
     "execution_count": 102,
     "metadata": {},
     "output_type": "execute_result"
    }
   ],
   "source": [
    "\n",
    "model.fit(X_train_indices, train_data_Y_hot_array, epochs = 50, batch_size = 32, shuffle=True)\n",
    "#model.fit(X_train_indices_seq, train_data_Y_hot_array, epochs = 50, batch_size = 32, validation_data =(X_test_indices_seq, test_data_Y_hot_array))"
   ]
  },
  {
   "cell_type": "code",
   "execution_count": 103,
   "metadata": {},
   "outputs": [
    {
     "name": "stdout",
     "output_type": "stream",
     "text": [
      "99/99 [==============================] - 0s 5ms/step\n",
      "\n",
      "Test accuracy =  0.2929292932303265\n"
     ]
    }
   ],
   "source": [
    "loss, acc = model.evaluate(X_test_indices, test_data_Y_hot_array)\n",
    "print()\n",
    "print(\"Test accuracy = \", acc)"
   ]
  },
  {
   "cell_type": "code",
   "execution_count": 128,
   "metadata": {},
   "outputs": [
    {
     "name": "stdout",
     "output_type": "stream",
     "text": [
      "Content :  I do not love zero miles <==> Prediction : sadness\n"
     ]
    }
   ],
   "source": [
    "predict_data = np.array([\"I do not love zero miles\"])\n",
    "predict_data_indices = sentences_to_indices(predict_data, word_to_index, max_len = maxLen)\n",
    "#print(\"predict_data =\", predict_data)\n",
    "#print(\"predict_data_indices =\", predict_data_indices)\n",
    "\n",
    "pred = model.predict(predict_data_indices)\n",
    "index_of_sftmax = list(pred[0]).index(max(pred[0]))\n",
    "predicted_le_class = le_classes[index_of_sftmax]\n",
    "\n",
    "\n",
    "print(\"Content : \", predict_data[0], \"<==> Prediction :\", predicted_le_class)"
   ]
  },
  {
   "cell_type": "code",
   "execution_count": null,
   "metadata": {},
   "outputs": [],
   "source": []
  }
 ],
 "metadata": {
  "kernelspec": {
   "display_name": "Python 3",
   "language": "python",
   "name": "python3"
  },
  "language_info": {
   "codemirror_mode": {
    "name": "ipython",
    "version": 3
   },
   "file_extension": ".py",
   "mimetype": "text/x-python",
   "name": "python",
   "nbconvert_exporter": "python",
   "pygments_lexer": "ipython3",
   "version": "3.5.4"
  }
 },
 "nbformat": 4,
 "nbformat_minor": 2
}
