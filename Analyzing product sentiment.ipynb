{
 "cells": [
  {
   "cell_type": "code",
   "execution_count": 134,
   "metadata": {},
   "outputs": [],
   "source": [
    "import numpy as np\n",
    "import pandas as pd\n",
    "import matplotlib.pyplot as plt\n",
    "import nltk\n",
    "from collections import Counter\n",
    "from sklearn.model_selection import train_test_split\n",
    "from sklearn import datasets, linear_model\n",
    "from sklearn.feature_extraction import DictVectorizer\n",
    "#from sklearn.metrics import mean_squared_error, r2_score\n",
    "#from math import sqrt"
   ]
  },
  {
   "cell_type": "markdown",
   "metadata": {},
   "source": [
    "# Read some product review data"
   ]
  },
  {
   "cell_type": "code",
   "execution_count": 38,
   "metadata": {},
   "outputs": [],
   "source": [
    "products = pd.read_csv(\"amazon_baby.csv\")"
   ]
  },
  {
   "cell_type": "markdown",
   "metadata": {},
   "source": [
    "# Let's explore this data together"
   ]
  },
  {
   "cell_type": "code",
   "execution_count": 39,
   "metadata": {},
   "outputs": [
    {
     "data": {
      "text/html": [
       "<div>\n",
       "<style>\n",
       "    .dataframe thead tr:only-child th {\n",
       "        text-align: right;\n",
       "    }\n",
       "\n",
       "    .dataframe thead th {\n",
       "        text-align: left;\n",
       "    }\n",
       "\n",
       "    .dataframe tbody tr th {\n",
       "        vertical-align: top;\n",
       "    }\n",
       "</style>\n",
       "<table border=\"1\" class=\"dataframe\">\n",
       "  <thead>\n",
       "    <tr style=\"text-align: right;\">\n",
       "      <th></th>\n",
       "      <th>name</th>\n",
       "      <th>review</th>\n",
       "      <th>rating</th>\n",
       "    </tr>\n",
       "  </thead>\n",
       "  <tbody>\n",
       "    <tr>\n",
       "      <th>0</th>\n",
       "      <td>Planetwise Flannel Wipes</td>\n",
       "      <td>These flannel wipes are OK, but in my opinion ...</td>\n",
       "      <td>3</td>\n",
       "    </tr>\n",
       "    <tr>\n",
       "      <th>1</th>\n",
       "      <td>Planetwise Wipe Pouch</td>\n",
       "      <td>it came early and was not disappointed. i love...</td>\n",
       "      <td>5</td>\n",
       "    </tr>\n",
       "    <tr>\n",
       "      <th>2</th>\n",
       "      <td>Annas Dream Full Quilt with 2 Shams</td>\n",
       "      <td>Very soft and comfortable and warmer than it l...</td>\n",
       "      <td>5</td>\n",
       "    </tr>\n",
       "    <tr>\n",
       "      <th>3</th>\n",
       "      <td>Stop Pacifier Sucking without tears with Thumb...</td>\n",
       "      <td>This is a product well worth the purchase.  I ...</td>\n",
       "      <td>5</td>\n",
       "    </tr>\n",
       "    <tr>\n",
       "      <th>4</th>\n",
       "      <td>Stop Pacifier Sucking without tears with Thumb...</td>\n",
       "      <td>All of my kids have cried non-stop when I trie...</td>\n",
       "      <td>5</td>\n",
       "    </tr>\n",
       "  </tbody>\n",
       "</table>\n",
       "</div>"
      ],
      "text/plain": [
       "                                                name  \\\n",
       "0                           Planetwise Flannel Wipes   \n",
       "1                              Planetwise Wipe Pouch   \n",
       "2                Annas Dream Full Quilt with 2 Shams   \n",
       "3  Stop Pacifier Sucking without tears with Thumb...   \n",
       "4  Stop Pacifier Sucking without tears with Thumb...   \n",
       "\n",
       "                                              review  rating  \n",
       "0  These flannel wipes are OK, but in my opinion ...       3  \n",
       "1  it came early and was not disappointed. i love...       5  \n",
       "2  Very soft and comfortable and warmer than it l...       5  \n",
       "3  This is a product well worth the purchase.  I ...       5  \n",
       "4  All of my kids have cried non-stop when I trie...       5  "
      ]
     },
     "execution_count": 39,
     "metadata": {},
     "output_type": "execute_result"
    }
   ],
   "source": [
    "products.head()"
   ]
  },
  {
   "cell_type": "markdown",
   "metadata": {},
   "source": [
    "# Build the word count vector for each review"
   ]
  },
  {
   "cell_type": "code",
   "execution_count": 45,
   "metadata": {},
   "outputs": [],
   "source": [
    "def word_count(sentence):\n",
    "    word_count_dict = dict(Counter(word.lower() for word in nltk.word_tokenize(str(sentence))))\n",
    "    return word_count_dict"
   ]
  },
  {
   "cell_type": "code",
   "execution_count": 43,
   "metadata": {},
   "outputs": [],
   "source": [
    "products[\"word_count\"] = products[\"review\"].apply(word_count)"
   ]
  },
  {
   "cell_type": "code",
   "execution_count": 44,
   "metadata": {},
   "outputs": [
    {
     "data": {
      "text/html": [
       "<div>\n",
       "<style>\n",
       "    .dataframe thead tr:only-child th {\n",
       "        text-align: right;\n",
       "    }\n",
       "\n",
       "    .dataframe thead th {\n",
       "        text-align: left;\n",
       "    }\n",
       "\n",
       "    .dataframe tbody tr th {\n",
       "        vertical-align: top;\n",
       "    }\n",
       "</style>\n",
       "<table border=\"1\" class=\"dataframe\">\n",
       "  <thead>\n",
       "    <tr style=\"text-align: right;\">\n",
       "      <th></th>\n",
       "      <th>name</th>\n",
       "      <th>review</th>\n",
       "      <th>rating</th>\n",
       "      <th>word_count</th>\n",
       "    </tr>\n",
       "  </thead>\n",
       "  <tbody>\n",
       "    <tr>\n",
       "      <th>0</th>\n",
       "      <td>Planetwise Flannel Wipes</td>\n",
       "      <td>These flannel wipes are OK, but in my opinion ...</td>\n",
       "      <td>3</td>\n",
       "      <td>{'these': 1, 'flannel': 1, 'wipes': 3, 'are': ...</td>\n",
       "    </tr>\n",
       "    <tr>\n",
       "      <th>1</th>\n",
       "      <td>Planetwise Wipe Pouch</td>\n",
       "      <td>it came early and was not disappointed. i love...</td>\n",
       "      <td>5</td>\n",
       "      <td>{'it': 3, 'came': 1, 'early': 1, 'and': 3, 'wa...</td>\n",
       "    </tr>\n",
       "    <tr>\n",
       "      <th>2</th>\n",
       "      <td>Annas Dream Full Quilt with 2 Shams</td>\n",
       "      <td>Very soft and comfortable and warmer than it l...</td>\n",
       "      <td>5</td>\n",
       "      <td>{'very': 1, 'soft': 1, 'and': 2, 'comfortable'...</td>\n",
       "    </tr>\n",
       "    <tr>\n",
       "      <th>3</th>\n",
       "      <td>Stop Pacifier Sucking without tears with Thumb...</td>\n",
       "      <td>This is a product well worth the purchase.  I ...</td>\n",
       "      <td>5</td>\n",
       "      <td>{'this': 4, 'is': 4, 'a': 2, 'product': 2, 'we...</td>\n",
       "    </tr>\n",
       "    <tr>\n",
       "      <th>4</th>\n",
       "      <td>Stop Pacifier Sucking without tears with Thumb...</td>\n",
       "      <td>All of my kids have cried non-stop when I trie...</td>\n",
       "      <td>5</td>\n",
       "      <td>{'all': 2, 'of': 1, 'my': 1, 'kids': 2, 'have'...</td>\n",
       "    </tr>\n",
       "  </tbody>\n",
       "</table>\n",
       "</div>"
      ],
      "text/plain": [
       "                                                name  \\\n",
       "0                           Planetwise Flannel Wipes   \n",
       "1                              Planetwise Wipe Pouch   \n",
       "2                Annas Dream Full Quilt with 2 Shams   \n",
       "3  Stop Pacifier Sucking without tears with Thumb...   \n",
       "4  Stop Pacifier Sucking without tears with Thumb...   \n",
       "\n",
       "                                              review  rating  \\\n",
       "0  These flannel wipes are OK, but in my opinion ...       3   \n",
       "1  it came early and was not disappointed. i love...       5   \n",
       "2  Very soft and comfortable and warmer than it l...       5   \n",
       "3  This is a product well worth the purchase.  I ...       5   \n",
       "4  All of my kids have cried non-stop when I trie...       5   \n",
       "\n",
       "                                          word_count  \n",
       "0  {'these': 1, 'flannel': 1, 'wipes': 3, 'are': ...  \n",
       "1  {'it': 3, 'came': 1, 'early': 1, 'and': 3, 'wa...  \n",
       "2  {'very': 1, 'soft': 1, 'and': 2, 'comfortable'...  \n",
       "3  {'this': 4, 'is': 4, 'a': 2, 'product': 2, 'we...  \n",
       "4  {'all': 2, 'of': 1, 'my': 1, 'kids': 2, 'have'...  "
      ]
     },
     "execution_count": 44,
     "metadata": {},
     "output_type": "execute_result"
    }
   ],
   "source": [
    "products.head(5)"
   ]
  },
  {
   "cell_type": "code",
   "execution_count": 54,
   "metadata": {},
   "outputs": [
    {
     "data": {
      "text/html": [
       "<div>\n",
       "<style>\n",
       "    .dataframe thead tr:only-child th {\n",
       "        text-align: right;\n",
       "    }\n",
       "\n",
       "    .dataframe thead th {\n",
       "        text-align: left;\n",
       "    }\n",
       "\n",
       "    .dataframe tbody tr th {\n",
       "        vertical-align: top;\n",
       "    }\n",
       "</style>\n",
       "<table border=\"1\" class=\"dataframe\">\n",
       "  <thead>\n",
       "    <tr style=\"text-align: right;\">\n",
       "      <th></th>\n",
       "      <th>review</th>\n",
       "      <th>rating</th>\n",
       "      <th>word_count</th>\n",
       "    </tr>\n",
       "    <tr>\n",
       "      <th>name</th>\n",
       "      <th></th>\n",
       "      <th></th>\n",
       "      <th></th>\n",
       "    </tr>\n",
       "  </thead>\n",
       "  <tbody>\n",
       "    <tr>\n",
       "      <th>Vulli Sophie the Giraffe Teether</th>\n",
       "      <td>779</td>\n",
       "      <td>785</td>\n",
       "      <td>785</td>\n",
       "    </tr>\n",
       "    <tr>\n",
       "      <th>Simple Wishes Hands-Free Breastpump Bra, Pink, XS-L</th>\n",
       "      <td>560</td>\n",
       "      <td>562</td>\n",
       "      <td>562</td>\n",
       "    </tr>\n",
       "    <tr>\n",
       "      <th>Infant Optics DXR-5 2.4 GHz Digital Video Baby Monitor with Night Vision</th>\n",
       "      <td>558</td>\n",
       "      <td>561</td>\n",
       "      <td>561</td>\n",
       "    </tr>\n",
       "    <tr>\n",
       "      <th>Baby Einstein Take Along Tunes</th>\n",
       "      <td>545</td>\n",
       "      <td>547</td>\n",
       "      <td>547</td>\n",
       "    </tr>\n",
       "    <tr>\n",
       "      <th>Cloud b Twilight Constellation Night Light, Turtle</th>\n",
       "      <td>517</td>\n",
       "      <td>520</td>\n",
       "      <td>520</td>\n",
       "    </tr>\n",
       "  </tbody>\n",
       "</table>\n",
       "</div>"
      ],
      "text/plain": [
       "                                                    review  rating  word_count\n",
       "name                                                                          \n",
       "Vulli Sophie the Giraffe Teether                       779     785         785\n",
       "Simple Wishes Hands-Free Breastpump Bra, Pink, ...     560     562         562\n",
       "Infant Optics DXR-5 2.4 GHz Digital Video Baby ...     558     561         561\n",
       "Baby Einstein Take Along Tunes                         545     547         547\n",
       "Cloud b Twilight Constellation Night Light, Turtle     517     520         520"
      ]
     },
     "execution_count": 54,
     "metadata": {},
     "output_type": "execute_result"
    }
   ],
   "source": [
    "products.groupby(\"name\").count().sort_values(by=['rating'], ascending=False).head(5)"
   ]
  },
  {
   "cell_type": "markdown",
   "metadata": {},
   "source": [
    "## Explore Vulli Sophie"
   ]
  },
  {
   "cell_type": "code",
   "execution_count": 74,
   "metadata": {},
   "outputs": [
    {
     "data": {
      "text/plain": [
       "785"
      ]
     },
     "execution_count": 74,
     "metadata": {},
     "output_type": "execute_result"
    }
   ],
   "source": [
    "giraffe_reviews = products[products[\"name\"] == \"Vulli Sophie the Giraffe Teether\"]\n",
    "len(giraffe_reviews)"
   ]
  },
  {
   "cell_type": "code",
   "execution_count": 88,
   "metadata": {},
   "outputs": [
    {
     "data": {
      "text/html": [
       "<div>\n",
       "<style>\n",
       "    .dataframe thead tr:only-child th {\n",
       "        text-align: right;\n",
       "    }\n",
       "\n",
       "    .dataframe thead th {\n",
       "        text-align: left;\n",
       "    }\n",
       "\n",
       "    .dataframe tbody tr th {\n",
       "        vertical-align: top;\n",
       "    }\n",
       "</style>\n",
       "<table border=\"1\" class=\"dataframe\">\n",
       "  <thead>\n",
       "    <tr style=\"text-align: right;\">\n",
       "      <th></th>\n",
       "      <th>rating</th>\n",
       "      <th>name</th>\n",
       "      <th>counts</th>\n",
       "    </tr>\n",
       "  </thead>\n",
       "  <tbody>\n",
       "    <tr>\n",
       "      <th>0</th>\n",
       "      <td>1</td>\n",
       "      <td>Vulli Sophie the Giraffe Teether</td>\n",
       "      <td>56</td>\n",
       "    </tr>\n",
       "    <tr>\n",
       "      <th>1</th>\n",
       "      <td>2</td>\n",
       "      <td>Vulli Sophie the Giraffe Teether</td>\n",
       "      <td>37</td>\n",
       "    </tr>\n",
       "    <tr>\n",
       "      <th>2</th>\n",
       "      <td>3</td>\n",
       "      <td>Vulli Sophie the Giraffe Teether</td>\n",
       "      <td>62</td>\n",
       "    </tr>\n",
       "    <tr>\n",
       "      <th>3</th>\n",
       "      <td>4</td>\n",
       "      <td>Vulli Sophie the Giraffe Teether</td>\n",
       "      <td>95</td>\n",
       "    </tr>\n",
       "    <tr>\n",
       "      <th>4</th>\n",
       "      <td>5</td>\n",
       "      <td>Vulli Sophie the Giraffe Teether</td>\n",
       "      <td>535</td>\n",
       "    </tr>\n",
       "  </tbody>\n",
       "</table>\n",
       "</div>"
      ],
      "text/plain": [
       "   rating                              name  counts\n",
       "0       1  Vulli Sophie the Giraffe Teether      56\n",
       "1       2  Vulli Sophie the Giraffe Teether      37\n",
       "2       3  Vulli Sophie the Giraffe Teether      62\n",
       "3       4  Vulli Sophie the Giraffe Teether      95\n",
       "4       5  Vulli Sophie the Giraffe Teether     535"
      ]
     },
     "execution_count": 88,
     "metadata": {},
     "output_type": "execute_result"
    }
   ],
   "source": [
    "#giraffe_reviews.groupby(\"rating\").count().sort_values(by=[\"name\"], ascending=False)\n",
    "\n",
    "giraffe_reviews_freq = giraffe_reviews.groupby(['rating', 'name']).size().reset_index(name='counts')\n",
    "giraffe_reviews_freq"
   ]
  },
  {
   "cell_type": "markdown",
   "metadata": {},
   "source": [
    "# Build a sentiment classifier"
   ]
  },
  {
   "cell_type": "code",
   "execution_count": 106,
   "metadata": {},
   "outputs": [
    {
     "data": {
      "text/html": [
       "<div>\n",
       "<style>\n",
       "    .dataframe thead tr:only-child th {\n",
       "        text-align: right;\n",
       "    }\n",
       "\n",
       "    .dataframe thead th {\n",
       "        text-align: left;\n",
       "    }\n",
       "\n",
       "    .dataframe tbody tr th {\n",
       "        vertical-align: top;\n",
       "    }\n",
       "</style>\n",
       "<table border=\"1\" class=\"dataframe\">\n",
       "  <thead>\n",
       "    <tr style=\"text-align: right;\">\n",
       "      <th></th>\n",
       "      <th>name</th>\n",
       "      <th>review</th>\n",
       "      <th>word_count</th>\n",
       "    </tr>\n",
       "    <tr>\n",
       "      <th>rating</th>\n",
       "      <th></th>\n",
       "      <th></th>\n",
       "      <th></th>\n",
       "    </tr>\n",
       "  </thead>\n",
       "  <tbody>\n",
       "    <tr>\n",
       "      <th>1</th>\n",
       "      <td>15167</td>\n",
       "      <td>15116</td>\n",
       "      <td>15183</td>\n",
       "    </tr>\n",
       "    <tr>\n",
       "      <th>2</th>\n",
       "      <td>11294</td>\n",
       "      <td>11277</td>\n",
       "      <td>11310</td>\n",
       "    </tr>\n",
       "    <tr>\n",
       "      <th>3</th>\n",
       "      <td>16757</td>\n",
       "      <td>16727</td>\n",
       "      <td>16779</td>\n",
       "    </tr>\n",
       "    <tr>\n",
       "      <th>4</th>\n",
       "      <td>33159</td>\n",
       "      <td>33099</td>\n",
       "      <td>33205</td>\n",
       "    </tr>\n",
       "    <tr>\n",
       "      <th>5</th>\n",
       "      <td>106836</td>\n",
       "      <td>106483</td>\n",
       "      <td>107054</td>\n",
       "    </tr>\n",
       "  </tbody>\n",
       "</table>\n",
       "</div>"
      ],
      "text/plain": [
       "          name  review  word_count\n",
       "rating                            \n",
       "1        15167   15116       15183\n",
       "2        11294   11277       11310\n",
       "3        16757   16727       16779\n",
       "4        33159   33099       33205\n",
       "5       106836  106483      107054"
      ]
     },
     "execution_count": 106,
     "metadata": {},
     "output_type": "execute_result"
    }
   ],
   "source": [
    "products.groupby(\"rating\").count()#.sort_values(by=['rating'], ascending=False).head(5)"
   ]
  },
  {
   "cell_type": "markdown",
   "metadata": {},
   "source": [
    "## Define what's a positive and negative sentiment"
   ]
  },
  {
   "cell_type": "code",
   "execution_count": 107,
   "metadata": {},
   "outputs": [],
   "source": [
    "# ignore all 3* review\n",
    "products = products[products[\"rating\"] != 3]"
   ]
  },
  {
   "cell_type": "code",
   "execution_count": 111,
   "metadata": {},
   "outputs": [],
   "source": [
    "# posivite sentiment = 4* or 5* reviews\n",
    "def sentiment(x):\n",
    "    sentiment = 0\n",
    "    if x >= 4:\n",
    "        sentiment = 1\n",
    "    return sentiment\n",
    "products[\"sentiment\"] = products[\"rating\"].apply(sentiment)"
   ]
  },
  {
   "cell_type": "code",
   "execution_count": 112,
   "metadata": {},
   "outputs": [
    {
     "data": {
      "text/html": [
       "<div>\n",
       "<style>\n",
       "    .dataframe thead tr:only-child th {\n",
       "        text-align: right;\n",
       "    }\n",
       "\n",
       "    .dataframe thead th {\n",
       "        text-align: left;\n",
       "    }\n",
       "\n",
       "    .dataframe tbody tr th {\n",
       "        vertical-align: top;\n",
       "    }\n",
       "</style>\n",
       "<table border=\"1\" class=\"dataframe\">\n",
       "  <thead>\n",
       "    <tr style=\"text-align: right;\">\n",
       "      <th></th>\n",
       "      <th>name</th>\n",
       "      <th>review</th>\n",
       "      <th>rating</th>\n",
       "      <th>word_count</th>\n",
       "      <th>sentiment</th>\n",
       "    </tr>\n",
       "  </thead>\n",
       "  <tbody>\n",
       "    <tr>\n",
       "      <th>1</th>\n",
       "      <td>Planetwise Wipe Pouch</td>\n",
       "      <td>it came early and was not disappointed. i love...</td>\n",
       "      <td>5</td>\n",
       "      <td>{'it': 3, 'came': 1, 'early': 1, 'and': 3, 'wa...</td>\n",
       "      <td>1</td>\n",
       "    </tr>\n",
       "    <tr>\n",
       "      <th>2</th>\n",
       "      <td>Annas Dream Full Quilt with 2 Shams</td>\n",
       "      <td>Very soft and comfortable and warmer than it l...</td>\n",
       "      <td>5</td>\n",
       "      <td>{'very': 1, 'soft': 1, 'and': 2, 'comfortable'...</td>\n",
       "      <td>1</td>\n",
       "    </tr>\n",
       "    <tr>\n",
       "      <th>3</th>\n",
       "      <td>Stop Pacifier Sucking without tears with Thumb...</td>\n",
       "      <td>This is a product well worth the purchase.  I ...</td>\n",
       "      <td>5</td>\n",
       "      <td>{'this': 4, 'is': 4, 'a': 2, 'product': 2, 'we...</td>\n",
       "      <td>1</td>\n",
       "    </tr>\n",
       "    <tr>\n",
       "      <th>4</th>\n",
       "      <td>Stop Pacifier Sucking without tears with Thumb...</td>\n",
       "      <td>All of my kids have cried non-stop when I trie...</td>\n",
       "      <td>5</td>\n",
       "      <td>{'all': 2, 'of': 1, 'my': 1, 'kids': 2, 'have'...</td>\n",
       "      <td>1</td>\n",
       "    </tr>\n",
       "    <tr>\n",
       "      <th>5</th>\n",
       "      <td>Stop Pacifier Sucking without tears with Thumb...</td>\n",
       "      <td>When the Binky Fairy came to our house, we did...</td>\n",
       "      <td>5</td>\n",
       "      <td>{'when': 2, 'the': 6, 'binky': 3, 'fairy': 3, ...</td>\n",
       "      <td>1</td>\n",
       "    </tr>\n",
       "  </tbody>\n",
       "</table>\n",
       "</div>"
      ],
      "text/plain": [
       "                                                name  \\\n",
       "1                              Planetwise Wipe Pouch   \n",
       "2                Annas Dream Full Quilt with 2 Shams   \n",
       "3  Stop Pacifier Sucking without tears with Thumb...   \n",
       "4  Stop Pacifier Sucking without tears with Thumb...   \n",
       "5  Stop Pacifier Sucking without tears with Thumb...   \n",
       "\n",
       "                                              review  rating  \\\n",
       "1  it came early and was not disappointed. i love...       5   \n",
       "2  Very soft and comfortable and warmer than it l...       5   \n",
       "3  This is a product well worth the purchase.  I ...       5   \n",
       "4  All of my kids have cried non-stop when I trie...       5   \n",
       "5  When the Binky Fairy came to our house, we did...       5   \n",
       "\n",
       "                                          word_count  sentiment  \n",
       "1  {'it': 3, 'came': 1, 'early': 1, 'and': 3, 'wa...          1  \n",
       "2  {'very': 1, 'soft': 1, 'and': 2, 'comfortable'...          1  \n",
       "3  {'this': 4, 'is': 4, 'a': 2, 'product': 2, 'we...          1  \n",
       "4  {'all': 2, 'of': 1, 'my': 1, 'kids': 2, 'have'...          1  \n",
       "5  {'when': 2, 'the': 6, 'binky': 3, 'fairy': 3, ...          1  "
      ]
     },
     "execution_count": 112,
     "metadata": {},
     "output_type": "execute_result"
    }
   ],
   "source": [
    "products.head(5)"
   ]
  },
  {
   "cell_type": "markdown",
   "metadata": {},
   "source": [
    "# Let's train the sentiment classifier"
   ]
  },
  {
   "cell_type": "code",
   "execution_count": 149,
   "metadata": {},
   "outputs": [],
   "source": [
    "train_data, test_data = train_test_split(products, test_size=0.2, random_state=0)\n",
    "dictVectorizer = DictVectorizer()\n",
    "train_dict = dictVectorizer.fit_transform(train_data['word_count'])\n",
    "test_dict = dictVectorizer.transform(test_data['word_count'])\n"
   ]
  },
  {
   "cell_type": "code",
   "execution_count": 143,
   "metadata": {},
   "outputs": [
    {
     "data": {
      "text/plain": [
       "LogisticRegression(C=1.0, class_weight=None, dual=False, fit_intercept=True,\n",
       "          intercept_scaling=1, max_iter=100, multi_class='ovr', n_jobs=1,\n",
       "          penalty='l2', random_state=None, solver='liblinear', tol=0.0001,\n",
       "          verbose=0, warm_start=False)"
      ]
     },
     "execution_count": 143,
     "metadata": {},
     "output_type": "execute_result"
    }
   ],
   "source": [
    "sentiment_model = linear_model.LogisticRegression()\n",
    "sentiment_model.fit(train_dict, train_data[\"sentiment\"])"
   ]
  },
  {
   "cell_type": "markdown",
   "metadata": {},
   "source": [
    "# Evaluate model metric"
   ]
  },
  {
   "cell_type": "code",
   "execution_count": 151,
   "metadata": {},
   "outputs": [
    {
     "data": {
      "text/plain": [
       "array([1, 1, 1, ..., 1, 0, 1])"
      ]
     },
     "execution_count": 151,
     "metadata": {},
     "output_type": "execute_result"
    }
   ],
   "source": [
    "sentiment_model.predict(test_dict)\n"
   ]
  },
  {
   "cell_type": "markdown",
   "metadata": {},
   "source": [
    "# Apply the learned model to understand the sentiment for Giraffe"
   ]
  },
  {
   "cell_type": "code",
   "execution_count": 182,
   "metadata": {},
   "outputs": [
    {
     "name": "stdout",
     "output_type": "stream",
     "text": [
      "785\n",
      "785\n"
     ]
    }
   ],
   "source": [
    "print(len(giraffe_reviews))\n",
    "giraffe_reviews_dict = dictVectorizer.transform(giraffe_reviews['word_count'])\n",
    "giraffe_predicted = sentiment_model.predict_proba(giraffe_reviews_dict)[:,1]\n",
    "#giraffe_reviews[\"predicted_sentiment\"] = sentiment_model.predict_log_proba(giraffe_reviews_dict)\n",
    "print(len(giraffe_predicted))\n",
    "#print(giraffe_predicted)\n",
    "giraffe_reviews[\"predicted_sentiment\"] = giraffe_predicted.tolist()"
   ]
  },
  {
   "cell_type": "markdown",
   "metadata": {},
   "source": [
    "## Sort the review based on predicted sentiment and explore"
   ]
  },
  {
   "cell_type": "code",
   "execution_count": 170,
   "metadata": {},
   "outputs": [
    {
     "data": {
      "text/html": [
       "<div>\n",
       "<style>\n",
       "    .dataframe thead tr:only-child th {\n",
       "        text-align: right;\n",
       "    }\n",
       "\n",
       "    .dataframe thead th {\n",
       "        text-align: left;\n",
       "    }\n",
       "\n",
       "    .dataframe tbody tr th {\n",
       "        vertical-align: top;\n",
       "    }\n",
       "</style>\n",
       "<table border=\"1\" class=\"dataframe\">\n",
       "  <thead>\n",
       "    <tr style=\"text-align: right;\">\n",
       "      <th></th>\n",
       "      <th>name</th>\n",
       "      <th>review</th>\n",
       "      <th>rating</th>\n",
       "      <th>word_count</th>\n",
       "      <th>predicted_sentiment</th>\n",
       "    </tr>\n",
       "  </thead>\n",
       "  <tbody>\n",
       "    <tr>\n",
       "      <th>34892</th>\n",
       "      <td>Vulli Sophie the Giraffe Teether</td>\n",
       "      <td>Sophie, oh Sophie, your time has come. My gran...</td>\n",
       "      <td>5</td>\n",
       "      <td>{'sophie': 17, ',': 8, 'oh': 1, 'your': 1, 'ti...</td>\n",
       "      <td>1.0</td>\n",
       "    </tr>\n",
       "    <tr>\n",
       "      <th>34434</th>\n",
       "      <td>Vulli Sophie the Giraffe Teether</td>\n",
       "      <td>My Mom-in-Law bought Sophie for my son when he...</td>\n",
       "      <td>5</td>\n",
       "      <td>{'my': 7, 'mom-in-law': 1, 'bought': 1, 'sophi...</td>\n",
       "      <td>1.0</td>\n",
       "    </tr>\n",
       "    <tr>\n",
       "      <th>34442</th>\n",
       "      <td>Vulli Sophie the Giraffe Teether</td>\n",
       "      <td>Yes, it\\'s imported. Yes, it\\'s expensive. And...</td>\n",
       "      <td>5</td>\n",
       "      <td>{'yes': 3, ',': 14, 'it\\': 4, ''s': 6, 'import...</td>\n",
       "      <td>1.0</td>\n",
       "    </tr>\n",
       "    <tr>\n",
       "      <th>34746</th>\n",
       "      <td>Vulli Sophie the Giraffe Teether</td>\n",
       "      <td>Sophie the Giraffe is the perfect teething toy...</td>\n",
       "      <td>5</td>\n",
       "      <td>{'sophie': 5, 'the': 8, 'giraffe': 1, 'is': 7,...</td>\n",
       "      <td>1.0</td>\n",
       "    </tr>\n",
       "    <tr>\n",
       "      <th>34938</th>\n",
       "      <td>Vulli Sophie the Giraffe Teether</td>\n",
       "      <td>My nephews and my four kids all had Sophie in ...</td>\n",
       "      <td>5</td>\n",
       "      <td>{'my': 2, 'nephews': 1, 'and': 4, 'four': 1, '...</td>\n",
       "      <td>1.0</td>\n",
       "    </tr>\n",
       "  </tbody>\n",
       "</table>\n",
       "</div>"
      ],
      "text/plain": [
       "                                   name  \\\n",
       "34892  Vulli Sophie the Giraffe Teether   \n",
       "34434  Vulli Sophie the Giraffe Teether   \n",
       "34442  Vulli Sophie the Giraffe Teether   \n",
       "34746  Vulli Sophie the Giraffe Teether   \n",
       "34938  Vulli Sophie the Giraffe Teether   \n",
       "\n",
       "                                                  review  rating  \\\n",
       "34892  Sophie, oh Sophie, your time has come. My gran...       5   \n",
       "34434  My Mom-in-Law bought Sophie for my son when he...       5   \n",
       "34442  Yes, it\\'s imported. Yes, it\\'s expensive. And...       5   \n",
       "34746  Sophie the Giraffe is the perfect teething toy...       5   \n",
       "34938  My nephews and my four kids all had Sophie in ...       5   \n",
       "\n",
       "                                              word_count  predicted_sentiment  \n",
       "34892  {'sophie': 17, ',': 8, 'oh': 1, 'your': 1, 'ti...                  1.0  \n",
       "34434  {'my': 7, 'mom-in-law': 1, 'bought': 1, 'sophi...                  1.0  \n",
       "34442  {'yes': 3, ',': 14, 'it\\': 4, ''s': 6, 'import...                  1.0  \n",
       "34746  {'sophie': 5, 'the': 8, 'giraffe': 1, 'is': 7,...                  1.0  \n",
       "34938  {'my': 2, 'nephews': 1, 'and': 4, 'four': 1, '...                  1.0  "
      ]
     },
     "execution_count": 170,
     "metadata": {},
     "output_type": "execute_result"
    }
   ],
   "source": [
    "giraffe_reviews = giraffe_reviews.sort_values(by=['predicted_sentiment'], ascending=False)\n",
    "giraffe_reviews.head(5)"
   ]
  },
  {
   "cell_type": "code",
   "execution_count": 180,
   "metadata": {},
   "outputs": [
    {
     "name": "stdout",
     "output_type": "stream",
     "text": [
      "Sophie, oh Sophie, your time has come. My granddaughter, Violet is 5 months old and starting to teeth. What joy little Sophie brings to Violet. Sophie is made of a very pliable rubber that is sturdy but not tough. It is quite easy for Violet to twist Sophie into unheard of positions to get Sophie into her mouth. The little nose and hooves fit perfectly into small mouths, and the drooling has purpose. The paint on Sophie is food quality.Sophie was born in 1961 in France. The maker had wondered why there was nothing available for babies and made Sophie from the finest rubber, phthalate-free on St Sophie\\'s Day, thus the name was born. Since that time millions of Sophie\\'s populate the world. She is soft and for babies little hands easy to grasp. Violet especially loves the bumpy head and horns of Sophie. Sophie has a long neck that easy to grasp and twist. She has lovely, sizable spots that attract Violet\\'s attention. Sophie has happy little squeaks that bring squeals of delight from Violet. She is able to make Sophie squeak and that brings much joy. Sophie\\'s smooth skin is soothing to Violet\\'s little gums. Sophie is 7 inches tall and is the exact correct size for babies to hold and love.As you well know the first thing babies grasp, goes into their mouths- how wonderful to have a toy that stimulates all of the senses and helps with the issue of teething. Sophie is small enough to fit into any size pocket or bag. Sophie is the perfect find for babies from a few months to a year old. How wonderful to hear the giggles and laughs that emanate from babies who find Sophie irresistible. Viva La Sophie!Highly Recommended.  prisrob 12-11-09\n",
      "My Mom-in-Law bought Sophie for my son when he was just starting to really chew on things (and we were hearing some pretty scary things about toys not made in the USA). She did some research and came across Sophie and we are so glad that she did! While Sophie doesn\\'t come from the USA, we love the fact that she is 100% safe and natural, and my son loves to play with her. I also love how soft Sophie is, my son tends to swing his toys around and when he\\'s sitting on my lap I\\'m usually in danger of being hit in the face with whatever he\\'s holding, needless to say a soft toy is even better in my book! There\\'s one last thing I want to comment on, I\\'ve read reviews that said that Sophie was a \"glorified dog toy\" or something to that effect, and I don\\'t want to seem rude, but I think they\\'re crazy! Yes Sophie does squeak, (which my son didn\\'t care about much at first but now he loves) but that\\'s about as far as the comparison could go! If you want a quality teething toy for your child then look no further! Sophie is adorable, soft, perfect for little hands, 100% natural, and SAFE!!!!!!! Definitely worth every penny!!\n"
     ]
    }
   ],
   "source": [
    "print(giraffe_reviews[\"review\"].iloc[0])\n",
    "print(giraffe_reviews[\"review\"].iloc[1])"
   ]
  },
  {
   "cell_type": "markdown",
   "metadata": {},
   "source": [
    "## Show most negative review"
   ]
  },
  {
   "cell_type": "code",
   "execution_count": 181,
   "metadata": {},
   "outputs": [
    {
     "name": "stdout",
     "output_type": "stream",
     "text": [
      "I wanted to love this product and was excited to buy it when I became pregnant but am now hesitant to let my baby use it after reading about the recall in Europe. Apparently, as I understand it, their toxin standards of measurement are lower than ours so they have not been recalled here (apparently we are OK with low levels of nitrates in the toys our children put in their mouths, but Europeans are not...hmmm)...Be that as it may, toxins registering even CLOSE to a dangerous level made me nervous about using. After digging around online I did discover that the company claims to have changed the product after a certain date and lists manufacturing codes so you can check yours (those listed were made after a certain date and are said to be safer). Sadly mine was not made after the &#34;improved&#34; date but I could not return it because there was no formal recall in our country. I considered returning it and hunting for one with an approved manufacturing date but man that was just too much work. Bummed but not ready to take a risk with my baby.\n",
      "Received the product and smells like cheap rubber. This is biggest waste of money. I even soaked it in hot water with soap for couple of hours (over a couple of days) but still smells. I ended up tossing this as this was waste of money.\n"
     ]
    }
   ],
   "source": [
    "print(giraffe_reviews[\"review\"].iloc[-1])\n",
    "print(giraffe_reviews[\"review\"].iloc[-2])"
   ]
  },
  {
   "cell_type": "markdown",
   "metadata": {},
   "source": [
    "# Assignment :"
   ]
  },
  {
   "cell_type": "code",
   "execution_count": 185,
   "metadata": {},
   "outputs": [],
   "source": [
    "selected_words = ['awesome', 'great', 'fantastic', 'amazing', 'love', 'horrible', 'bad', 'terrible', 'awful', 'wow', 'hate']\n"
   ]
  },
  {
   "cell_type": "code",
   "execution_count": 197,
   "metadata": {},
   "outputs": [],
   "source": [
    "def awesome_word_count(_dict):\n",
    "    word = \"awesome\"\n",
    "    count = 0\n",
    "    if word in _dict:\n",
    "        count = _dict[word]\n",
    "    return count\n",
    "\n",
    "def great_word_count(_dict):\n",
    "    word = \"great\"\n",
    "    count = 0\n",
    "    if word in _dict:\n",
    "        count = _dict[word]\n",
    "    return count\n",
    "    \n",
    "def fantastic_word_count(_dict):\n",
    "    word = \"fantastic\"\n",
    "    count = 0\n",
    "    if word in _dict:\n",
    "        count = _dict[word]\n",
    "    return count\n",
    "\n",
    "def amazing_word_count(_dict):\n",
    "    word = \"amazing\"\n",
    "    count = 0\n",
    "    if word in _dict:\n",
    "        count = _dict[word]\n",
    "    return count\n",
    "\n",
    "def love_word_count(_dict):\n",
    "    word = \"love\"\n",
    "    count = 0\n",
    "    if word in _dict:\n",
    "        count = _dict[word]\n",
    "    return count\n",
    "\n",
    "def horrible_word_count(_dict):\n",
    "    word = \"horrible\"\n",
    "    count = 0\n",
    "    if word in _dict:\n",
    "        count = _dict[word]\n",
    "    return count\n",
    "\n",
    "def awful_word_count(_dict):\n",
    "    word = \"awful\"\n",
    "    count = 0\n",
    "    if word in _dict:\n",
    "        count = _dict[word]\n",
    "    return count\n",
    "\n",
    "def terrible_word_count(_dict):\n",
    "    word = \"terrible\"\n",
    "    count = 0\n",
    "    if word in _dict:\n",
    "        count = _dict[word]\n",
    "    return count\n",
    "\n",
    "def wow_word_count(_dict):\n",
    "    word = \"wow\"\n",
    "    count = 0\n",
    "    if word in _dict:\n",
    "        count = _dict[word]\n",
    "    return count\n",
    "\n",
    "def hate_word_count(_dict):\n",
    "    word = \"hate\"\n",
    "    count = 0\n",
    "    if word in _dict:\n",
    "        count = _dict[word]\n",
    "    return count\n",
    "\n",
    "def bad_word_count(_dict):\n",
    "    word = \"bad\"\n",
    "    count = 0\n",
    "    if word in _dict:\n",
    "        count = _dict[word]\n",
    "    return count"
   ]
  },
  {
   "cell_type": "code",
   "execution_count": 200,
   "metadata": {},
   "outputs": [
    {
     "data": {
      "text/html": [
       "<div>\n",
       "<style>\n",
       "    .dataframe thead tr:only-child th {\n",
       "        text-align: right;\n",
       "    }\n",
       "\n",
       "    .dataframe thead th {\n",
       "        text-align: left;\n",
       "    }\n",
       "\n",
       "    .dataframe tbody tr th {\n",
       "        vertical-align: top;\n",
       "    }\n",
       "</style>\n",
       "<table border=\"1\" class=\"dataframe\">\n",
       "  <thead>\n",
       "    <tr style=\"text-align: right;\">\n",
       "      <th></th>\n",
       "      <th>name</th>\n",
       "      <th>review</th>\n",
       "      <th>rating</th>\n",
       "      <th>word_count</th>\n",
       "      <th>sentiment</th>\n",
       "      <th>awesome</th>\n",
       "      <th>great</th>\n",
       "      <th>fantastic</th>\n",
       "      <th>amazing</th>\n",
       "      <th>love</th>\n",
       "      <th>horrible</th>\n",
       "      <th>bad</th>\n",
       "      <th>terrible</th>\n",
       "      <th>awful</th>\n",
       "      <th>wow</th>\n",
       "      <th>hate</th>\n",
       "    </tr>\n",
       "  </thead>\n",
       "  <tbody>\n",
       "    <tr>\n",
       "      <th>1</th>\n",
       "      <td>Planetwise Wipe Pouch</td>\n",
       "      <td>it came early and was not disappointed. i love...</td>\n",
       "      <td>5</td>\n",
       "      <td>{'it': 3, 'came': 1, 'early': 1, 'and': 3, 'wa...</td>\n",
       "      <td>1</td>\n",
       "      <td>0</td>\n",
       "      <td>0</td>\n",
       "      <td>0</td>\n",
       "      <td>0</td>\n",
       "      <td>1</td>\n",
       "      <td>0</td>\n",
       "      <td>0</td>\n",
       "      <td>0</td>\n",
       "      <td>0</td>\n",
       "      <td>0</td>\n",
       "      <td>0</td>\n",
       "    </tr>\n",
       "    <tr>\n",
       "      <th>2</th>\n",
       "      <td>Annas Dream Full Quilt with 2 Shams</td>\n",
       "      <td>Very soft and comfortable and warmer than it l...</td>\n",
       "      <td>5</td>\n",
       "      <td>{'very': 1, 'soft': 1, 'and': 2, 'comfortable'...</td>\n",
       "      <td>1</td>\n",
       "      <td>0</td>\n",
       "      <td>0</td>\n",
       "      <td>0</td>\n",
       "      <td>0</td>\n",
       "      <td>0</td>\n",
       "      <td>0</td>\n",
       "      <td>0</td>\n",
       "      <td>0</td>\n",
       "      <td>0</td>\n",
       "      <td>0</td>\n",
       "      <td>0</td>\n",
       "    </tr>\n",
       "    <tr>\n",
       "      <th>3</th>\n",
       "      <td>Stop Pacifier Sucking without tears with Thumb...</td>\n",
       "      <td>This is a product well worth the purchase.  I ...</td>\n",
       "      <td>5</td>\n",
       "      <td>{'this': 4, 'is': 4, 'a': 2, 'product': 2, 'we...</td>\n",
       "      <td>1</td>\n",
       "      <td>0</td>\n",
       "      <td>0</td>\n",
       "      <td>0</td>\n",
       "      <td>0</td>\n",
       "      <td>2</td>\n",
       "      <td>0</td>\n",
       "      <td>0</td>\n",
       "      <td>0</td>\n",
       "      <td>0</td>\n",
       "      <td>0</td>\n",
       "      <td>0</td>\n",
       "    </tr>\n",
       "    <tr>\n",
       "      <th>4</th>\n",
       "      <td>Stop Pacifier Sucking without tears with Thumb...</td>\n",
       "      <td>All of my kids have cried non-stop when I trie...</td>\n",
       "      <td>5</td>\n",
       "      <td>{'all': 2, 'of': 1, 'my': 1, 'kids': 2, 'have'...</td>\n",
       "      <td>1</td>\n",
       "      <td>0</td>\n",
       "      <td>1</td>\n",
       "      <td>0</td>\n",
       "      <td>0</td>\n",
       "      <td>0</td>\n",
       "      <td>0</td>\n",
       "      <td>0</td>\n",
       "      <td>0</td>\n",
       "      <td>0</td>\n",
       "      <td>0</td>\n",
       "      <td>0</td>\n",
       "    </tr>\n",
       "    <tr>\n",
       "      <th>5</th>\n",
       "      <td>Stop Pacifier Sucking without tears with Thumb...</td>\n",
       "      <td>When the Binky Fairy came to our house, we did...</td>\n",
       "      <td>5</td>\n",
       "      <td>{'when': 2, 'the': 6, 'binky': 3, 'fairy': 3, ...</td>\n",
       "      <td>1</td>\n",
       "      <td>0</td>\n",
       "      <td>1</td>\n",
       "      <td>0</td>\n",
       "      <td>0</td>\n",
       "      <td>0</td>\n",
       "      <td>0</td>\n",
       "      <td>0</td>\n",
       "      <td>0</td>\n",
       "      <td>0</td>\n",
       "      <td>0</td>\n",
       "      <td>0</td>\n",
       "    </tr>\n",
       "  </tbody>\n",
       "</table>\n",
       "</div>"
      ],
      "text/plain": [
       "                                                name  \\\n",
       "1                              Planetwise Wipe Pouch   \n",
       "2                Annas Dream Full Quilt with 2 Shams   \n",
       "3  Stop Pacifier Sucking without tears with Thumb...   \n",
       "4  Stop Pacifier Sucking without tears with Thumb...   \n",
       "5  Stop Pacifier Sucking without tears with Thumb...   \n",
       "\n",
       "                                              review  rating  \\\n",
       "1  it came early and was not disappointed. i love...       5   \n",
       "2  Very soft and comfortable and warmer than it l...       5   \n",
       "3  This is a product well worth the purchase.  I ...       5   \n",
       "4  All of my kids have cried non-stop when I trie...       5   \n",
       "5  When the Binky Fairy came to our house, we did...       5   \n",
       "\n",
       "                                          word_count  sentiment  awesome  \\\n",
       "1  {'it': 3, 'came': 1, 'early': 1, 'and': 3, 'wa...          1        0   \n",
       "2  {'very': 1, 'soft': 1, 'and': 2, 'comfortable'...          1        0   \n",
       "3  {'this': 4, 'is': 4, 'a': 2, 'product': 2, 'we...          1        0   \n",
       "4  {'all': 2, 'of': 1, 'my': 1, 'kids': 2, 'have'...          1        0   \n",
       "5  {'when': 2, 'the': 6, 'binky': 3, 'fairy': 3, ...          1        0   \n",
       "\n",
       "   great  fantastic  amazing  love  horrible  bad  terrible  awful  wow  hate  \n",
       "1      0          0        0     1         0    0         0      0    0     0  \n",
       "2      0          0        0     0         0    0         0      0    0     0  \n",
       "3      0          0        0     2         0    0         0      0    0     0  \n",
       "4      1          0        0     0         0    0         0      0    0     0  \n",
       "5      1          0        0     0         0    0         0      0    0     0  "
      ]
     },
     "execution_count": 200,
     "metadata": {},
     "output_type": "execute_result"
    }
   ],
   "source": [
    "products['awesome'] = products['word_count'].apply(awesome_word_count)\n",
    "products['great'] = products['word_count'].apply(great_word_count)\n",
    "products['fantastic'] = products['word_count'].apply(fantastic_word_count)\n",
    "products['amazing'] = products['word_count'].apply(amazing_word_count)\n",
    "products['love'] = products['word_count'].apply(love_word_count)\n",
    "products['horrible'] = products['word_count'].apply(horrible_word_count)\n",
    "products['bad'] = products['word_count'].apply(bad_word_count)\n",
    "products['terrible'] = products['word_count'].apply(terrible_word_count)\n",
    "products['awful'] = products['word_count'].apply(awful_word_count)\n",
    "products['wow'] = products['word_count'].apply(wow_word_count)\n",
    "products['hate'] = products['word_count'].apply(hate_word_count)\n",
    "products.head(5)"
   ]
  },
  {
   "cell_type": "code",
   "execution_count": 204,
   "metadata": {},
   "outputs": [
    {
     "data": {
      "text/plain": [
       "awesome       3810\n",
       "great        54807\n",
       "fantastic     1631\n",
       "amazing       2575\n",
       "love         41679\n",
       "horrible      1091\n",
       "bad           4086\n",
       "terrible      1114\n",
       "awful          665\n",
       "wow            407\n",
       "hate          1094\n",
       "dtype: int64"
      ]
     },
     "execution_count": 204,
     "metadata": {},
     "output_type": "execute_result"
    }
   ],
   "source": [
    "products[selected_words].sum(axis=0)"
   ]
  },
  {
   "cell_type": "code",
   "execution_count": 207,
   "metadata": {},
   "outputs": [],
   "source": [
    "selected_featutes_product = products[selected_words]"
   ]
  },
  {
   "cell_type": "code",
   "execution_count": 208,
   "metadata": {},
   "outputs": [],
   "source": [
    "selected_featutes_train_data, selected_featutes_test_data = train_test_split(products, test_size=0.2, random_state=0)"
   ]
  },
  {
   "cell_type": "code",
   "execution_count": 263,
   "metadata": {},
   "outputs": [
    {
     "name": "stdout",
     "output_type": "stream",
     "text": [
      "[[ 1.16773792  0.86376671  0.93764443  1.07139851  1.3894016  -2.27795248\n",
      "  -0.98855992 -2.20591631 -2.07791281 -0.0734577  -1.42913533]]\n"
     ]
    }
   ],
   "source": [
    "selected_featutes_sentiment_model = linear_model.LogisticRegression()\n",
    "selected_featutes_sentiment_model.fit(selected_featutes_train_data[selected_words], selected_featutes_train_data[\"sentiment\"])\n",
    "print(selected_featutes_sentiment_model.coef_)"
   ]
  },
  {
   "cell_type": "code",
   "execution_count": 265,
   "metadata": {},
   "outputs": [
    {
     "name": "stdout",
     "output_type": "stream",
     "text": [
      "[1.34220025]\n",
      "[[ 1.16773792  0.86376671  0.93764443  1.07139851  1.3894016  -2.27795248\n",
      "  -0.98855992 -2.20591631 -2.07791281 -0.0734577  -1.42913533]]\n"
     ]
    }
   ],
   "source": [
    "print(selected_featutes_sentiment_model.intercept_)\n",
    "#selected_featutes_sentiment_model.coef_[0].sort()\n",
    "print(selected_featutes_sentiment_model.coef_)"
   ]
  },
  {
   "cell_type": "code",
   "execution_count": 242,
   "metadata": {},
   "outputs": [
    {
     "name": "stdout",
     "output_type": "stream",
     "text": [
      "['awesome', 'great', 'fantastic', 'amazing', 'love', 'horrible', 'bad', 'terrible', 'awful', 'wow', 'hate']\n"
     ]
    }
   ],
   "source": [
    "print(selected_words)\n",
    "horrible = -2.27795248\n",
    "love = 1.3894016"
   ]
  },
  {
   "cell_type": "markdown",
   "metadata": {},
   "source": [
    "# diaper_champ_reviews"
   ]
  },
  {
   "cell_type": "code",
   "execution_count": 243,
   "metadata": {},
   "outputs": [],
   "source": [
    "diaper_champ_reviews = products[products[\"name\"] == \"Baby Trend Diaper Champ\"]"
   ]
  },
  {
   "cell_type": "code",
   "execution_count": 247,
   "metadata": {},
   "outputs": [
    {
     "data": {
      "text/plain": [
       "array([0.79285154])"
      ]
     },
     "execution_count": 247,
     "metadata": {},
     "output_type": "execute_result"
    }
   ],
   "source": [
    "selected_featutes_sentiment_model.predict_proba(diaper_champ_reviews[selected_words][0:1])[:,1]"
   ]
  },
  {
   "cell_type": "markdown",
   "metadata": {},
   "source": [
    "# Most positive review for ‘Baby Trend Diaper Champ’ according to the sentiment_model "
   ]
  },
  {
   "cell_type": "code",
   "execution_count": 248,
   "metadata": {},
   "outputs": [
    {
     "name": "stderr",
     "output_type": "stream",
     "text": [
      "/usr/local/lib/python3.6/site-packages/ipykernel_launcher.py:3: SettingWithCopyWarning:\n",
      "\n",
      "\n",
      "A value is trying to be set on a copy of a slice from a DataFrame.\n",
      "Try using .loc[row_indexer,col_indexer] = value instead\n",
      "\n",
      "See the caveats in the documentation: http://pandas.pydata.org/pandas-docs/stable/indexing.html#indexing-view-versus-copy\n",
      "\n"
     ]
    }
   ],
   "source": [
    "diaper_champ_reviews_dict = dictVectorizer.transform(diaper_champ_reviews['word_count'])\n",
    "diaper_champ_reviews_predicted = sentiment_model.predict_proba(diaper_champ_reviews_dict)[:,1]\n",
    "diaper_champ_reviews[\"predicted_sentiment\"] = diaper_champ_reviews_predicted.tolist()"
   ]
  },
  {
   "cell_type": "code",
   "execution_count": 249,
   "metadata": {},
   "outputs": [
    {
     "data": {
      "text/html": [
       "<div>\n",
       "<style>\n",
       "    .dataframe thead tr:only-child th {\n",
       "        text-align: right;\n",
       "    }\n",
       "\n",
       "    .dataframe thead th {\n",
       "        text-align: left;\n",
       "    }\n",
       "\n",
       "    .dataframe tbody tr th {\n",
       "        vertical-align: top;\n",
       "    }\n",
       "</style>\n",
       "<table border=\"1\" class=\"dataframe\">\n",
       "  <thead>\n",
       "    <tr style=\"text-align: right;\">\n",
       "      <th></th>\n",
       "      <th>name</th>\n",
       "      <th>review</th>\n",
       "      <th>rating</th>\n",
       "      <th>word_count</th>\n",
       "      <th>sentiment</th>\n",
       "      <th>awesome</th>\n",
       "      <th>great</th>\n",
       "      <th>fantastic</th>\n",
       "      <th>amazing</th>\n",
       "      <th>love</th>\n",
       "      <th>horrible</th>\n",
       "      <th>bad</th>\n",
       "      <th>terrible</th>\n",
       "      <th>awful</th>\n",
       "      <th>wow</th>\n",
       "      <th>hate</th>\n",
       "      <th>predicted_sentiment</th>\n",
       "    </tr>\n",
       "  </thead>\n",
       "  <tbody>\n",
       "    <tr>\n",
       "      <th>376</th>\n",
       "      <td>Baby Trend Diaper Champ</td>\n",
       "      <td>This is absolutely, by far, the best diaper pa...</td>\n",
       "      <td>5</td>\n",
       "      <td>{'this': 3, 'is': 10, 'absolutely': 1, ',': 10...</td>\n",
       "      <td>1</td>\n",
       "      <td>0</td>\n",
       "      <td>0</td>\n",
       "      <td>0</td>\n",
       "      <td>0</td>\n",
       "      <td>2</td>\n",
       "      <td>0</td>\n",
       "      <td>0</td>\n",
       "      <td>0</td>\n",
       "      <td>0</td>\n",
       "      <td>0</td>\n",
       "      <td>0</td>\n",
       "      <td>1.0</td>\n",
       "    </tr>\n",
       "    <tr>\n",
       "      <th>320</th>\n",
       "      <td>Baby Trend Diaper Champ</td>\n",
       "      <td>I originally put this item on my baby registry...</td>\n",
       "      <td>5</td>\n",
       "      <td>{'i': 10, 'originally': 1, 'put': 1, 'this': 4...</td>\n",
       "      <td>1</td>\n",
       "      <td>0</td>\n",
       "      <td>0</td>\n",
       "      <td>0</td>\n",
       "      <td>0</td>\n",
       "      <td>0</td>\n",
       "      <td>0</td>\n",
       "      <td>0</td>\n",
       "      <td>0</td>\n",
       "      <td>0</td>\n",
       "      <td>0</td>\n",
       "      <td>0</td>\n",
       "      <td>1.0</td>\n",
       "    </tr>\n",
       "    <tr>\n",
       "      <th>414</th>\n",
       "      <td>Baby Trend Diaper Champ</td>\n",
       "      <td>We have been using our Diaper Champ for almost...</td>\n",
       "      <td>5</td>\n",
       "      <td>{'we': 8, 'have': 3, 'been': 2, 'using': 1, 'o...</td>\n",
       "      <td>1</td>\n",
       "      <td>0</td>\n",
       "      <td>0</td>\n",
       "      <td>0</td>\n",
       "      <td>0</td>\n",
       "      <td>0</td>\n",
       "      <td>0</td>\n",
       "      <td>0</td>\n",
       "      <td>0</td>\n",
       "      <td>0</td>\n",
       "      <td>0</td>\n",
       "      <td>0</td>\n",
       "      <td>1.0</td>\n",
       "    </tr>\n",
       "    <tr>\n",
       "      <th>571</th>\n",
       "      <td>Baby Trend Diaper Champ</td>\n",
       "      <td>We did alot of research on diaper pails before...</td>\n",
       "      <td>2</td>\n",
       "      <td>{'we': 11, 'did': 1, 'alot': 1, 'of': 5, 'rese...</td>\n",
       "      <td>0</td>\n",
       "      <td>0</td>\n",
       "      <td>0</td>\n",
       "      <td>0</td>\n",
       "      <td>0</td>\n",
       "      <td>0</td>\n",
       "      <td>0</td>\n",
       "      <td>0</td>\n",
       "      <td>0</td>\n",
       "      <td>0</td>\n",
       "      <td>0</td>\n",
       "      <td>0</td>\n",
       "      <td>1.0</td>\n",
       "    </tr>\n",
       "    <tr>\n",
       "      <th>451</th>\n",
       "      <td>Baby Trend Diaper Champ</td>\n",
       "      <td>As a first time mother, I wanted to get the be...</td>\n",
       "      <td>5</td>\n",
       "      <td>{'as': 1, 'a': 5, 'first': 1, 'time': 1, 'moth...</td>\n",
       "      <td>1</td>\n",
       "      <td>0</td>\n",
       "      <td>0</td>\n",
       "      <td>0</td>\n",
       "      <td>0</td>\n",
       "      <td>1</td>\n",
       "      <td>0</td>\n",
       "      <td>0</td>\n",
       "      <td>0</td>\n",
       "      <td>0</td>\n",
       "      <td>0</td>\n",
       "      <td>0</td>\n",
       "      <td>1.0</td>\n",
       "    </tr>\n",
       "  </tbody>\n",
       "</table>\n",
       "</div>"
      ],
      "text/plain": [
       "                        name  \\\n",
       "376  Baby Trend Diaper Champ   \n",
       "320  Baby Trend Diaper Champ   \n",
       "414  Baby Trend Diaper Champ   \n",
       "571  Baby Trend Diaper Champ   \n",
       "451  Baby Trend Diaper Champ   \n",
       "\n",
       "                                                review  rating  \\\n",
       "376  This is absolutely, by far, the best diaper pa...       5   \n",
       "320  I originally put this item on my baby registry...       5   \n",
       "414  We have been using our Diaper Champ for almost...       5   \n",
       "571  We did alot of research on diaper pails before...       2   \n",
       "451  As a first time mother, I wanted to get the be...       5   \n",
       "\n",
       "                                            word_count  sentiment  awesome  \\\n",
       "376  {'this': 3, 'is': 10, 'absolutely': 1, ',': 10...          1        0   \n",
       "320  {'i': 10, 'originally': 1, 'put': 1, 'this': 4...          1        0   \n",
       "414  {'we': 8, 'have': 3, 'been': 2, 'using': 1, 'o...          1        0   \n",
       "571  {'we': 11, 'did': 1, 'alot': 1, 'of': 5, 'rese...          0        0   \n",
       "451  {'as': 1, 'a': 5, 'first': 1, 'time': 1, 'moth...          1        0   \n",
       "\n",
       "     great  fantastic  amazing  love  horrible  bad  terrible  awful  wow  \\\n",
       "376      0          0        0     2         0    0         0      0    0   \n",
       "320      0          0        0     0         0    0         0      0    0   \n",
       "414      0          0        0     0         0    0         0      0    0   \n",
       "571      0          0        0     0         0    0         0      0    0   \n",
       "451      0          0        0     1         0    0         0      0    0   \n",
       "\n",
       "     hate  predicted_sentiment  \n",
       "376     0                  1.0  \n",
       "320     0                  1.0  \n",
       "414     0                  1.0  \n",
       "571     0                  1.0  \n",
       "451     0                  1.0  "
      ]
     },
     "execution_count": 249,
     "metadata": {},
     "output_type": "execute_result"
    }
   ],
   "source": [
    "diaper_champ_reviews = diaper_champ_reviews.sort_values(by=['predicted_sentiment'], ascending=False)\n",
    "diaper_champ_reviews.head(5)"
   ]
  },
  {
   "cell_type": "code",
   "execution_count": 250,
   "metadata": {},
   "outputs": [
    {
     "name": "stdout",
     "output_type": "stream",
     "text": [
      "This is absolutely, by far, the best diaper pail money can buy.  Never do we detect a diaper odor (and my husband has a very sensitive sense of smell and is usually very quick to complain about such things).  For those who say they have a problem with the Diaper Champ getting stuck...the ONLY time this ever happens to us is when the bag is full and needs to be changed.  We love that it uses regular kitchen trash bags, makes it much more economical.  We have not found that we need to worry about frequent emptying or cleaning.  We just leave the Champ to do its job until the mechanism begins to feel like it\\'s getting stuck...then we change the bag.  For us this means about once a week.  Not only is the Champ EASY to use, it\\'s kind of fun.  Before our daughter was born we really worried about whether the diaper pail we chose would be effective enough for us because my husband is so sensitive to smells.  But she\\'s two months old now and we still just can\\'t say enough good things about it.UPDATE:  My daughter is now 9 months old and we STILL love our Diaper Champ.  She\\'s eating solid foods, diapers are smellier, but the Champ is still doing it\\'s job.  We empty once a week and spray with Lysol.  Yes, there is an odor when changing the bag, but we take the bag directly out to the trash, spray Champ with Lysol, insert new bag and close the thing back up.  Everything is just fine after that.  We are so glad we have the Diaper Champ and cannot sing its praises enough.\n"
     ]
    }
   ],
   "source": [
    "print(diaper_champ_reviews[\"review\"].iloc[0])"
   ]
  },
  {
   "cell_type": "code",
   "execution_count": 251,
   "metadata": {},
   "outputs": [
    {
     "name": "stdout",
     "output_type": "stream",
     "text": [
      "This is the worst diaper pail ever!  It was great for the first couple weeks, but then it began to smell.  I cleaned the inside and outside with 409 again and again, but the smell would return with the first diaper I put in.  Then to make matters worse my 16 month old figured out it was fun to put toys in the hole where you put the diapers and try to flip it the way I did with his dirty diapers.  I had a Diaper Genie that broke and was hopeful that this less complicated diaper disposal system would work as well, but it does not!\n"
     ]
    }
   ],
   "source": [
    "print(diaper_champ_reviews[\"review\"].iloc[-1])"
   ]
  },
  {
   "cell_type": "markdown",
   "metadata": {},
   "source": [
    "# Accuracy"
   ]
  },
  {
   "cell_type": "code",
   "execution_count": 252,
   "metadata": {},
   "outputs": [
    {
     "name": "stdout",
     "output_type": "stream",
     "text": [
      "0.9313363917123925\n"
     ]
    }
   ],
   "source": [
    "sentiment_model_score = sentiment_model.score(test_dict, test_data[\"sentiment\"])\n",
    "print(sentiment_model_score)"
   ]
  },
  {
   "cell_type": "code",
   "execution_count": 253,
   "metadata": {},
   "outputs": [
    {
     "name": "stdout",
     "output_type": "stream",
     "text": [
      "0.564660729813199\n"
     ]
    }
   ],
   "source": [
    "selected_featutes_sentiment_model_score = selected_featutes_sentiment_model.score(selected_featutes_test_data[selected_words], selected_featutes_test_data[\"sentiment\"])\n",
    "print(selected_featutes_sentiment_model_score)\n"
   ]
  },
  {
   "cell_type": "code",
   "execution_count": 254,
   "metadata": {},
   "outputs": [
    {
     "ename": "ValueError",
     "evalue": "X has 11 features per sample; expecting 116995",
     "output_type": "error",
     "traceback": [
      "\u001b[0;31m---------------------------------------------------------------------------\u001b[0m",
      "\u001b[0;31mValueError\u001b[0m                                Traceback (most recent call last)",
      "\u001b[0;32m<ipython-input-254-918dce9af462>\u001b[0m in \u001b[0;36m<module>\u001b[0;34m()\u001b[0m\n\u001b[1;32m      1\u001b[0m \u001b[0;34m\u001b[0m\u001b[0m\n\u001b[1;32m      2\u001b[0m \u001b[0;34m\u001b[0m\u001b[0m\n\u001b[0;32m----> 3\u001b[0;31m \u001b[0msentiment_model\u001b[0m\u001b[0;34m.\u001b[0m\u001b[0mpredict_proba\u001b[0m\u001b[0;34m(\u001b[0m\u001b[0mdiaper_champ_reviews\u001b[0m\u001b[0;34m[\u001b[0m\u001b[0mselected_words\u001b[0m\u001b[0;34m]\u001b[0m\u001b[0;34m[\u001b[0m\u001b[0;36m0\u001b[0m\u001b[0;34m:\u001b[0m\u001b[0;36m1\u001b[0m\u001b[0;34m]\u001b[0m\u001b[0;34m)\u001b[0m\u001b[0;34m[\u001b[0m\u001b[0;34m:\u001b[0m\u001b[0;34m,\u001b[0m\u001b[0;36m1\u001b[0m\u001b[0;34m]\u001b[0m\u001b[0;34m\u001b[0m\u001b[0m\n\u001b[0m",
      "\u001b[0;32m/usr/local/lib/python3.6/site-packages/sklearn/linear_model/logistic.py\u001b[0m in \u001b[0;36mpredict_proba\u001b[0;34m(self, X)\u001b[0m\n\u001b[1;32m   1334\u001b[0m         \u001b[0mcalculate_ovr\u001b[0m \u001b[0;34m=\u001b[0m \u001b[0mself\u001b[0m\u001b[0;34m.\u001b[0m\u001b[0mcoef_\u001b[0m\u001b[0;34m.\u001b[0m\u001b[0mshape\u001b[0m\u001b[0;34m[\u001b[0m\u001b[0;36m0\u001b[0m\u001b[0;34m]\u001b[0m \u001b[0;34m==\u001b[0m \u001b[0;36m1\u001b[0m \u001b[0;32mor\u001b[0m \u001b[0mself\u001b[0m\u001b[0;34m.\u001b[0m\u001b[0mmulti_class\u001b[0m \u001b[0;34m==\u001b[0m \u001b[0;34m\"ovr\"\u001b[0m\u001b[0;34m\u001b[0m\u001b[0m\n\u001b[1;32m   1335\u001b[0m         \u001b[0;32mif\u001b[0m \u001b[0mcalculate_ovr\u001b[0m\u001b[0;34m:\u001b[0m\u001b[0;34m\u001b[0m\u001b[0m\n\u001b[0;32m-> 1336\u001b[0;31m             \u001b[0;32mreturn\u001b[0m \u001b[0msuper\u001b[0m\u001b[0;34m(\u001b[0m\u001b[0mLogisticRegression\u001b[0m\u001b[0;34m,\u001b[0m \u001b[0mself\u001b[0m\u001b[0;34m)\u001b[0m\u001b[0;34m.\u001b[0m\u001b[0m_predict_proba_lr\u001b[0m\u001b[0;34m(\u001b[0m\u001b[0mX\u001b[0m\u001b[0;34m)\u001b[0m\u001b[0;34m\u001b[0m\u001b[0m\n\u001b[0m\u001b[1;32m   1337\u001b[0m         \u001b[0;32melse\u001b[0m\u001b[0;34m:\u001b[0m\u001b[0;34m\u001b[0m\u001b[0m\n\u001b[1;32m   1338\u001b[0m             \u001b[0;32mreturn\u001b[0m \u001b[0msoftmax\u001b[0m\u001b[0;34m(\u001b[0m\u001b[0mself\u001b[0m\u001b[0;34m.\u001b[0m\u001b[0mdecision_function\u001b[0m\u001b[0;34m(\u001b[0m\u001b[0mX\u001b[0m\u001b[0;34m)\u001b[0m\u001b[0;34m,\u001b[0m \u001b[0mcopy\u001b[0m\u001b[0;34m=\u001b[0m\u001b[0;32mFalse\u001b[0m\u001b[0;34m)\u001b[0m\u001b[0;34m\u001b[0m\u001b[0m\n",
      "\u001b[0;32m/usr/local/lib/python3.6/site-packages/sklearn/linear_model/base.py\u001b[0m in \u001b[0;36m_predict_proba_lr\u001b[0;34m(self, X)\u001b[0m\n\u001b[1;32m    336\u001b[0m         \u001b[0mmulticlass\u001b[0m \u001b[0;32mis\u001b[0m \u001b[0mhandled\u001b[0m \u001b[0mby\u001b[0m \u001b[0mnormalizing\u001b[0m \u001b[0mthat\u001b[0m \u001b[0mover\u001b[0m \u001b[0mall\u001b[0m \u001b[0mclasses\u001b[0m\u001b[0;34m.\u001b[0m\u001b[0;34m\u001b[0m\u001b[0m\n\u001b[1;32m    337\u001b[0m         \"\"\"\n\u001b[0;32m--> 338\u001b[0;31m         \u001b[0mprob\u001b[0m \u001b[0;34m=\u001b[0m \u001b[0mself\u001b[0m\u001b[0;34m.\u001b[0m\u001b[0mdecision_function\u001b[0m\u001b[0;34m(\u001b[0m\u001b[0mX\u001b[0m\u001b[0;34m)\u001b[0m\u001b[0;34m\u001b[0m\u001b[0m\n\u001b[0m\u001b[1;32m    339\u001b[0m         \u001b[0mprob\u001b[0m \u001b[0;34m*=\u001b[0m \u001b[0;34m-\u001b[0m\u001b[0;36m1\u001b[0m\u001b[0;34m\u001b[0m\u001b[0m\n\u001b[1;32m    340\u001b[0m         \u001b[0mnp\u001b[0m\u001b[0;34m.\u001b[0m\u001b[0mexp\u001b[0m\u001b[0;34m(\u001b[0m\u001b[0mprob\u001b[0m\u001b[0;34m,\u001b[0m \u001b[0mprob\u001b[0m\u001b[0;34m)\u001b[0m\u001b[0;34m\u001b[0m\u001b[0m\n",
      "\u001b[0;32m/usr/local/lib/python3.6/site-packages/sklearn/linear_model/base.py\u001b[0m in \u001b[0;36mdecision_function\u001b[0;34m(self, X)\u001b[0m\n\u001b[1;32m    303\u001b[0m         \u001b[0;32mif\u001b[0m \u001b[0mX\u001b[0m\u001b[0;34m.\u001b[0m\u001b[0mshape\u001b[0m\u001b[0;34m[\u001b[0m\u001b[0;36m1\u001b[0m\u001b[0;34m]\u001b[0m \u001b[0;34m!=\u001b[0m \u001b[0mn_features\u001b[0m\u001b[0;34m:\u001b[0m\u001b[0;34m\u001b[0m\u001b[0m\n\u001b[1;32m    304\u001b[0m             raise ValueError(\"X has %d features per sample; expecting %d\"\n\u001b[0;32m--> 305\u001b[0;31m                              % (X.shape[1], n_features))\n\u001b[0m\u001b[1;32m    306\u001b[0m \u001b[0;34m\u001b[0m\u001b[0m\n\u001b[1;32m    307\u001b[0m         scores = safe_sparse_dot(X, self.coef_.T,\n",
      "\u001b[0;31mValueError\u001b[0m: X has 11 features per sample; expecting 116995"
     ]
    }
   ],
   "source": [
    "\n",
    "\n",
    "sentiment_model.predict_proba(diaper_champ_reviews[selected_words][0:1])[:,1]"
   ]
  },
  {
   "cell_type": "code",
   "execution_count": 257,
   "metadata": {},
   "outputs": [
    {
     "name": "stdout",
     "output_type": "stream",
     "text": [
      "name          33301\n",
      "review        33191\n",
      "rating        33351\n",
      "word_count    33351\n",
      "sentiment     33351\n",
      "dtype: int64\n"
     ]
    },
    {
     "data": {
      "text/html": [
       "<div>\n",
       "<style>\n",
       "    .dataframe thead tr:only-child th {\n",
       "        text-align: right;\n",
       "    }\n",
       "\n",
       "    .dataframe thead th {\n",
       "        text-align: left;\n",
       "    }\n",
       "\n",
       "    .dataframe tbody tr th {\n",
       "        vertical-align: top;\n",
       "    }\n",
       "</style>\n",
       "<table border=\"1\" class=\"dataframe\">\n",
       "  <thead>\n",
       "    <tr style=\"text-align: right;\">\n",
       "      <th></th>\n",
       "      <th>review</th>\n",
       "      <th>rating</th>\n",
       "      <th>word_count</th>\n",
       "      <th>sentiment</th>\n",
       "    </tr>\n",
       "    <tr>\n",
       "      <th>name</th>\n",
       "      <th></th>\n",
       "      <th></th>\n",
       "      <th></th>\n",
       "      <th></th>\n",
       "    </tr>\n",
       "  </thead>\n",
       "  <tbody>\n",
       "    <tr>\n",
       "      <th>Vulli Sophie the Giraffe Teether</th>\n",
       "      <td>146</td>\n",
       "      <td>148</td>\n",
       "      <td>148</td>\n",
       "      <td>148</td>\n",
       "    </tr>\n",
       "    <tr>\n",
       "      <th>Baby Einstein Take Along Tunes</th>\n",
       "      <td>107</td>\n",
       "      <td>107</td>\n",
       "      <td>107</td>\n",
       "      <td>107</td>\n",
       "    </tr>\n",
       "    <tr>\n",
       "      <th>Simple Wishes Hands-Free Breastpump Bra, Pink, XS-L</th>\n",
       "      <td>105</td>\n",
       "      <td>106</td>\n",
       "      <td>106</td>\n",
       "      <td>106</td>\n",
       "    </tr>\n",
       "    <tr>\n",
       "      <th>Fisher-Price Booster Seat, Blue/Green/Gray</th>\n",
       "      <td>98</td>\n",
       "      <td>98</td>\n",
       "      <td>98</td>\n",
       "      <td>98</td>\n",
       "    </tr>\n",
       "    <tr>\n",
       "      <th>Fisher-Price Rainforest Jumperoo</th>\n",
       "      <td>94</td>\n",
       "      <td>94</td>\n",
       "      <td>94</td>\n",
       "      <td>94</td>\n",
       "    </tr>\n",
       "  </tbody>\n",
       "</table>\n",
       "</div>"
      ],
      "text/plain": [
       "                                                    review  rating  \\\n",
       "name                                                                 \n",
       "Vulli Sophie the Giraffe Teether                       146     148   \n",
       "Baby Einstein Take Along Tunes                         107     107   \n",
       "Simple Wishes Hands-Free Breastpump Bra, Pink, ...     105     106   \n",
       "Fisher-Price Booster Seat, Blue/Green/Gray              98      98   \n",
       "Fisher-Price Rainforest Jumperoo                        94      94   \n",
       "\n",
       "                                                    word_count  sentiment  \n",
       "name                                                                       \n",
       "Vulli Sophie the Giraffe Teether                           148        148  \n",
       "Baby Einstein Take Along Tunes                             107        107  \n",
       "Simple Wishes Hands-Free Breastpump Bra, Pink, ...         106        106  \n",
       "Fisher-Price Booster Seat, Blue/Green/Gray                  98         98  \n",
       "Fisher-Price Rainforest Jumperoo                            94         94  "
      ]
     },
     "execution_count": 257,
     "metadata": {},
     "output_type": "execute_result"
    }
   ],
   "source": [
    "print(test_data.count())\n",
    "test_data.groupby(\"name\").count().sort_values(by=['rating'], ascending=False).head(5)"
   ]
  },
  {
   "cell_type": "code",
   "execution_count": 258,
   "metadata": {},
   "outputs": [
    {
     "data": {
      "text/plain": [
       "name          27941\n",
       "review        27848\n",
       "rating        27989\n",
       "word_count    27989\n",
       "sentiment     27989\n",
       "dtype: int64"
      ]
     },
     "execution_count": 258,
     "metadata": {},
     "output_type": "execute_result"
    }
   ],
   "source": [
    "test_data[test_data[\"rating\"] >= 4].count()"
   ]
  },
  {
   "cell_type": "code",
   "execution_count": 267,
   "metadata": {},
   "outputs": [
    {
     "data": {
      "text/plain": [
       "0.8390438725563797"
      ]
     },
     "execution_count": 267,
     "metadata": {},
     "output_type": "execute_result"
    }
   ],
   "source": [
    "27941/33301"
   ]
  },
  {
   "cell_type": "code",
   "execution_count": 264,
   "metadata": {},
   "outputs": [
    {
     "name": "stdout",
     "output_type": "stream",
     "text": [
      "{'awesome': 1.1677379241165828, 'great': 0.8637667064569866, 'fantastic': 0.937644430430786, 'amazing': 1.0713985121349374, 'love': 1.389401598242565, 'horrible': -2.2779524796018924, 'bad': -0.9885599155292636, 'terrible': -2.2059163055521256, 'awful': -2.0779128090486285, 'wow': -0.07345769625171285, 'hate': -1.429135332203809}\n"
     ]
    }
   ],
   "source": [
    "coef_dict = {}\n",
    "for coef, feat in zip(selected_featutes_sentiment_model.coef_[0],selected_words):\n",
    "    coef_dict[feat] = coef\n",
    "    \n",
    "print(coef_dict)"
   ]
  },
  {
   "cell_type": "code",
   "execution_count": null,
   "metadata": {},
   "outputs": [],
   "source": []
  }
 ],
 "metadata": {
  "kernelspec": {
   "display_name": "Python 3",
   "language": "python",
   "name": "python3"
  },
  "language_info": {
   "codemirror_mode": {
    "name": "ipython",
    "version": 3
   },
   "file_extension": ".py",
   "mimetype": "text/x-python",
   "name": "python",
   "nbconvert_exporter": "python",
   "pygments_lexer": "ipython3",
   "version": "3.6.2"
  }
 },
 "nbformat": 4,
 "nbformat_minor": 2
}
