{
 "cells": [
  {
   "cell_type": "markdown",
   "metadata": {},
   "source": [
    "# String Splitter"
   ]
  },
  {
   "cell_type": "code",
   "execution_count": 267,
   "metadata": {},
   "outputs": [],
   "source": [
    "import re\n",
    "from collections import Counter\n",
    "from nltk.tokenize import word_tokenize\n",
    "\n",
    "from sklearn.datasets import fetch_20newsgroups"
   ]
  },
  {
   "cell_type": "code",
   "execution_count": 320,
   "metadata": {},
   "outputs": [],
   "source": [
    "def word_probability(word): \n",
    "    return dictionary[word] / total\n",
    "\n",
    "\n",
    "def word_seg(text):\n",
    "    text = text.lower()\n",
    "    probbability, least = [1.0], [0]\n",
    "    for i in range(1, len(text) + 1):\n",
    "        prob_k, k = max((probbability[j] * word_probability(text[j:i]), j)\n",
    "                        for j in range(max(0, i - max_word_length), i))\n",
    "        probbability.append(prob_k)\n",
    "        least.append(k)\n",
    "    words = []\n",
    "    i = len(text)\n",
    "    while 0 < i:\n",
    "        words.append(text[least[i]:i])\n",
    "        i = least[i]\n",
    "    words.reverse()\n",
    "    return words, probbability[-1]\n",
    "\n",
    "def process_text_data(text_data):\n",
    "    sentence = ' '\n",
    "    word_tokens = word_tokenize(text_data)\n",
    "    for word in word_tokens:\n",
    "        flag = True\n",
    "        for c in special_letter:\n",
    "            if str(c) in word:\n",
    "                flag = False\n",
    "        if flag:\n",
    "            sentence = sentence + ' '.join(word_seg(word)[0])\n",
    "        else:\n",
    "            sentence = sentence + str(' ') + word\n",
    "    return sentence"
   ]
  },
  {
   "cell_type": "code",
   "execution_count": 321,
   "metadata": {},
   "outputs": [],
   "source": [
    "dataset = fetch_20newsgroups(shuffle=True, random_state=0)\n",
    "train_corpus = dataset.data"
   ]
  },
  {
   "cell_type": "code",
   "execution_count": 322,
   "metadata": {
    "scrolled": true
   },
   "outputs": [],
   "source": [
    "special_letter = ['(',')','{','}','[',']','|','>','<','?','.',',','=','*','&','^','%','$','#','@','!','~','-','+','_','1','2','3','4','5','6','7','8','9','0']\n",
    "text = \" \"\n",
    "for i in range(2371):\n",
    "    text = text + train_corpus[i]"
   ]
  },
  {
   "cell_type": "code",
   "execution_count": 323,
   "metadata": {},
   "outputs": [],
   "source": [
    "dictionary = Counter(words(text))\n",
    "max_word_length = max(map(len, dictionary))\n",
    "total = float(sum(dictionary.values()))"
   ]
  },
  {
   "cell_type": "code",
   "execution_count": 324,
   "metadata": {},
   "outputs": [],
   "source": [
    "input_sentence = 'theanalyticsandbusinessintelligence(BI)softwaremarketrevenueinIndiaisexpectedtoreach $304mnin2018,an18.1%year-on-earincrease,accordingtoresearchfirmGartner,Inc'  \n",
    "output_sentence = process_text_data(input_sentence)\n"
   ]
  },
  {
   "cell_type": "code",
   "execution_count": 325,
   "metadata": {},
   "outputs": [
    {
     "data": {
      "text/plain": [
       "' the analytics and business intelligence (b i )software market revenue in india is expected to reach $ 304mnin2018 , an18.1 % year-on-earincrease ,according to research firm gartner ,inc'"
      ]
     },
     "execution_count": 325,
     "metadata": {},
     "output_type": "execute_result"
    }
   ],
   "source": [
    "output_sentence"
   ]
  },
  {
   "cell_type": "code",
   "execution_count": null,
   "metadata": {},
   "outputs": [],
   "source": []
  },
  {
   "cell_type": "code",
   "execution_count": null,
   "metadata": {},
   "outputs": [],
   "source": []
  }
 ],
 "metadata": {
  "kernelspec": {
   "display_name": "Python 3",
   "language": "python",
   "name": "python3"
  },
  "language_info": {
   "codemirror_mode": {
    "name": "ipython",
    "version": 3
   },
   "file_extension": ".py",
   "mimetype": "text/x-python",
   "name": "python",
   "nbconvert_exporter": "python",
   "pygments_lexer": "ipython3",
   "version": "3.6.2"
  }
 },
 "nbformat": 4,
 "nbformat_minor": 2
}
